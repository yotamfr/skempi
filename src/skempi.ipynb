{
 "cells": [
  {
   "cell_type": "code",
   "execution_count": 1,
   "metadata": {},
   "outputs": [
    {
     "data": {
      "text/plain": [
       "'/home/yotamfr/development/skempi/src'"
      ]
     },
     "execution_count": 1,
     "metadata": {},
     "output_type": "execute_result"
    }
   ],
   "source": [
    "import os\n",
    "import sys\n",
    "import subprocess\n",
    "\n",
    "import numpy as np\n",
    "import pandas as pd\n",
    "\n",
    "from io import StringIO\n",
    "\n",
    "os.getcwd()"
   ]
  },
  {
   "cell_type": "code",
   "execution_count": 2,
   "metadata": {},
   "outputs": [
    {
     "name": "stderr",
     "output_type": "stream",
     "text": [
      "/home/yotamfr/development/skempi/skempi2/lib/python2.7/site-packages/matplotlib/axes/_axes.py:6462: UserWarning: The 'normed' kwarg is deprecated, and has been replaced by the 'density' kwarg.\n",
      "  warnings.warn(\"The 'normed' kwarg is deprecated, and has been \"\n"
     ]
    },
    {
     "data": {
      "image/png": "[encoded data removed]",
      "text/plain": [
       "<Figure size 720x576 with 1 Axes>"
      ]
     },
     "metadata": {},
     "output_type": "display_data"
    }
   ],
   "source": [
    "from skempi_consts import *\n",
    "import matplotlib.pyplot as plt\n",
    "\n",
    "%matplotlib inline\n",
    "%load_ext autoreload   \n",
    "%autoreload 2\n",
    "\n",
    "import pylab\n",
    "pylab.rcParams['figure.figsize'] = (10.0, 8.0)\n",
    "\n",
    "df = skempi_df\n",
    "ddg1 = df[df.Protein.isin(G1)].DDG.values\n",
    "ddg2 = df[df.Protein.isin(G2)].DDG.values\n",
    "ddg3 = df[df.Protein.isin(G3)].DDG.values\n",
    "ddg4 = df[df.Protein.isin(G4)].DDG.values\n",
    "ddg5 = df[df.Protein.isin(G5)].DDG.values\n",
    "\n",
    "ddg1235 = df[df.Protein.isin(G1 + G2 + G3 + G5)].DDG.values\n",
    "\n",
    "# plt.hist(ddg1, bins=100, alpha=0.5, label=\"G1\", normed=1, cumulative=False, histtype='bar')\n",
    "# plt.hist(ddg2, bins=100, alpha=0.5, label=\"G2\", normed=1, cumulative=False, histtype='bar')\n",
    "# plt.hist(ddg3, bins=100, alpha=0.5, label=\"G3\", normed=1, cumulative=False, histtype='bar')\n",
    "plt.hist(ddg4, bins=100, alpha=0.5, label=\"G4\", normed=1, cumulative=False, histtype='bar')\n",
    "# plt.hist(ddg5, bins=100, alpha=0.5, label=\"G5\", normed=1, cumulative=False, histtype='bar')\n",
    "\n",
    "plt.hist(ddg1235, bins=100, alpha=0.5, label=\"G1235\", normed=1, cumulative=False, histtype='bar')\n",
    "\n",
    "plt.legend(loc='upper right')\n",
    "plt.title(\"DDG Distribution\")\n",
    "plt.ylabel(\"Frequency\")\n",
    "plt.grid(True)\n",
    "plt.show()\n"
   ]
  },
  {
   "cell_type": "code",
   "execution_count": 3,
   "metadata": {},
   "outputs": [
    {
     "data": {
      "text/plain": [
       "Index([u'Protein', u'Mutation(s)_PDB', u'Mutation(s)_cleaned', u'Location(s)',\n",
       "       u'Hold_out_type', u'Hold_out_proteins', u'Affinity_mut (M)',\n",
       "       u'Affinity_wt (M)', u'DDG', u'Reference', u'Protein 1', u'Protein 2',\n",
       "       u'Temperature 298.15', u'Temperature Num', u'Temperature',\n",
       "       u'kon_mut (M^(-1)s^(-1))', u'kon_wt (M^(-1)s^(-1))',\n",
       "       u'koff_mut (s^(-1))', u'koff_wt (s^(-1))', u'dH_mut (kcal mol^(-1))',\n",
       "       u'dH_wt (kcal mol^(-1))', u'dS_mut (cal mol^(-1) K^(-1))',\n",
       "       u'dS_wt (cal mol^(-1) K^(-1))', u'Notes'],\n",
       "      dtype='object')"
      ]
     },
     "execution_count": 3,
     "metadata": {},
     "output_type": "execute_result"
    }
   ],
   "source": [
    "skempi_df.columns"
   ]
  },
  {
   "cell_type": "code",
   "execution_count": 4,
   "metadata": {},
   "outputs": [
    {
     "data": {
      "text/html": [
       "<div>\n",
       "<style scoped>\n",
       "    .dataframe tbody tr th:only-of-type {\n",
       "        vertical-align: middle;\n",
       "    }\n",
       "\n",
       "    .dataframe tbody tr th {\n",
       "        vertical-align: top;\n",
       "    }\n",
       "\n",
       "    .dataframe thead th {\n",
       "        text-align: right;\n",
       "    }\n",
       "</style>\n",
       "<table border=\"1\" class=\"dataframe\">\n",
       "  <thead>\n",
       "    <tr style=\"text-align: right;\">\n",
       "      <th></th>\n",
       "      <th>Protein</th>\n",
       "      <th>Mutation(s)_PDB</th>\n",
       "      <th>Mutation(s)_cleaned</th>\n",
       "      <th>Location(s)</th>\n",
       "      <th>Hold_out_type</th>\n",
       "      <th>Hold_out_proteins</th>\n",
       "      <th>Affinity_mut (M)</th>\n",
       "      <th>Affinity_wt (M)</th>\n",
       "      <th>DDG</th>\n",
       "      <th>Reference</th>\n",
       "      <th>...</th>\n",
       "      <th>Temperature</th>\n",
       "      <th>kon_mut (M^(-1)s^(-1))</th>\n",
       "      <th>kon_wt (M^(-1)s^(-1))</th>\n",
       "      <th>koff_mut (s^(-1))</th>\n",
       "      <th>koff_wt (s^(-1))</th>\n",
       "      <th>dH_mut (kcal mol^(-1))</th>\n",
       "      <th>dH_wt (kcal mol^(-1))</th>\n",
       "      <th>dS_mut (cal mol^(-1) K^(-1))</th>\n",
       "      <th>dS_wt (cal mol^(-1) K^(-1))</th>\n",
       "      <th>Notes</th>\n",
       "    </tr>\n",
       "  </thead>\n",
       "  <tbody>\n",
       "    <tr>\n",
       "      <th>2703</th>\n",
       "      <td>2VLJ_ABC_DE</td>\n",
       "      <td>DE32A</td>\n",
       "      <td>DE28A</td>\n",
       "      <td>COR</td>\n",
       "      <td>AB</td>\n",
       "      <td>AB</td>\n",
       "      <td>0.000074</td>\n",
       "      <td>0.000005</td>\n",
       "      <td>1.573201</td>\n",
       "      <td>18275829</td>\n",
       "      <td>...</td>\n",
       "      <td>298</td>\n",
       "      <td>NaN</td>\n",
       "      <td>NaN</td>\n",
       "      <td>NaN</td>\n",
       "      <td>NaN</td>\n",
       "      <td>NaN</td>\n",
       "      <td>NaN</td>\n",
       "      <td>NaN</td>\n",
       "      <td>NaN</td>\n",
       "      <td>NaN</td>\n",
       "    </tr>\n",
       "    <tr>\n",
       "      <th>2704</th>\n",
       "      <td>2VLJ_ABC_DE</td>\n",
       "      <td>IE53V</td>\n",
       "      <td>IE49V</td>\n",
       "      <td>COR</td>\n",
       "      <td>AB</td>\n",
       "      <td>AB</td>\n",
       "      <td>0.000007</td>\n",
       "      <td>0.000005</td>\n",
       "      <td>0.200969</td>\n",
       "      <td>18275829</td>\n",
       "      <td>...</td>\n",
       "      <td>298</td>\n",
       "      <td>17100.0</td>\n",
       "      <td>31000.0</td>\n",
       "      <td>0.13</td>\n",
       "      <td>0.16</td>\n",
       "      <td>-22.0</td>\n",
       "      <td>-23.0</td>\n",
       "      <td>-50.3</td>\n",
       "      <td>-50.3</td>\n",
       "      <td>NaN</td>\n",
       "    </tr>\n",
       "    <tr>\n",
       "      <th>2705</th>\n",
       "      <td>2VLJ_ABC_DE</td>\n",
       "      <td>IE53L</td>\n",
       "      <td>IE49L</td>\n",
       "      <td>COR</td>\n",
       "      <td>AB</td>\n",
       "      <td>AB</td>\n",
       "      <td>0.000057</td>\n",
       "      <td>0.000005</td>\n",
       "      <td>1.418563</td>\n",
       "      <td>18275829</td>\n",
       "      <td>...</td>\n",
       "      <td>298</td>\n",
       "      <td>7000.0</td>\n",
       "      <td>31000.0</td>\n",
       "      <td>0.40</td>\n",
       "      <td>0.16</td>\n",
       "      <td>NaN</td>\n",
       "      <td>NaN</td>\n",
       "      <td>NaN</td>\n",
       "      <td>NaN</td>\n",
       "      <td>NaN</td>\n",
       "    </tr>\n",
       "    <tr>\n",
       "      <th>2706</th>\n",
       "      <td>2VLJ_ABC_DE</td>\n",
       "      <td>NE55A</td>\n",
       "      <td>NE51A</td>\n",
       "      <td>RIM</td>\n",
       "      <td>AB</td>\n",
       "      <td>AB</td>\n",
       "      <td>0.000035</td>\n",
       "      <td>0.000005</td>\n",
       "      <td>1.129622</td>\n",
       "      <td>18275829</td>\n",
       "      <td>...</td>\n",
       "      <td>298</td>\n",
       "      <td>18000.0</td>\n",
       "      <td>31000.0</td>\n",
       "      <td>0.63</td>\n",
       "      <td>0.16</td>\n",
       "      <td>-18.0</td>\n",
       "      <td>-23.0</td>\n",
       "      <td>-40.2</td>\n",
       "      <td>-50.3</td>\n",
       "      <td>NaN</td>\n",
       "    </tr>\n",
       "    <tr>\n",
       "      <th>2707</th>\n",
       "      <td>2VLJ_ABC_DE</td>\n",
       "      <td>NE55D</td>\n",
       "      <td>NE51D</td>\n",
       "      <td>RIM</td>\n",
       "      <td>AB</td>\n",
       "      <td>AB</td>\n",
       "      <td>0.000012</td>\n",
       "      <td>0.000005</td>\n",
       "      <td>0.495437</td>\n",
       "      <td>18275829</td>\n",
       "      <td>...</td>\n",
       "      <td>298</td>\n",
       "      <td>32300.0</td>\n",
       "      <td>31000.0</td>\n",
       "      <td>0.38</td>\n",
       "      <td>0.16</td>\n",
       "      <td>NaN</td>\n",
       "      <td>NaN</td>\n",
       "      <td>NaN</td>\n",
       "      <td>NaN</td>\n",
       "      <td>NaN</td>\n",
       "    </tr>\n",
       "    <tr>\n",
       "      <th>2708</th>\n",
       "      <td>2VLJ_ABC_DE</td>\n",
       "      <td>DE56A</td>\n",
       "      <td>DE52A</td>\n",
       "      <td>COR</td>\n",
       "      <td>AB</td>\n",
       "      <td>AB</td>\n",
       "      <td>0.000006</td>\n",
       "      <td>0.000005</td>\n",
       "      <td>0.132202</td>\n",
       "      <td>18275829</td>\n",
       "      <td>...</td>\n",
       "      <td>298</td>\n",
       "      <td>38000.0</td>\n",
       "      <td>31000.0</td>\n",
       "      <td>0.25</td>\n",
       "      <td>0.16</td>\n",
       "      <td>-24.0</td>\n",
       "      <td>-23.0</td>\n",
       "      <td>-57.0</td>\n",
       "      <td>-50.3</td>\n",
       "      <td>NaN</td>\n",
       "    </tr>\n",
       "    <tr>\n",
       "      <th>2709</th>\n",
       "      <td>2VLJ_ABC_DE</td>\n",
       "      <td>QE58A</td>\n",
       "      <td>QE54A</td>\n",
       "      <td>COR</td>\n",
       "      <td>AB</td>\n",
       "      <td>AB</td>\n",
       "      <td>0.000012</td>\n",
       "      <td>0.000005</td>\n",
       "      <td>0.495437</td>\n",
       "      <td>18275829</td>\n",
       "      <td>...</td>\n",
       "      <td>298</td>\n",
       "      <td>28000.0</td>\n",
       "      <td>31000.0</td>\n",
       "      <td>0.34</td>\n",
       "      <td>0.16</td>\n",
       "      <td>-18.0</td>\n",
       "      <td>-23.0</td>\n",
       "      <td>-36.9</td>\n",
       "      <td>-50.3</td>\n",
       "      <td>NaN</td>\n",
       "    </tr>\n",
       "    <tr>\n",
       "      <th>2710</th>\n",
       "      <td>2VLJ_ABC_DE</td>\n",
       "      <td>QE58E</td>\n",
       "      <td>QE54E</td>\n",
       "      <td>COR</td>\n",
       "      <td>AB</td>\n",
       "      <td>AB</td>\n",
       "      <td>0.000005</td>\n",
       "      <td>0.000005</td>\n",
       "      <td>0.000000</td>\n",
       "      <td>18275829</td>\n",
       "      <td>...</td>\n",
       "      <td>298</td>\n",
       "      <td>50000.0</td>\n",
       "      <td>31000.0</td>\n",
       "      <td>0.26</td>\n",
       "      <td>0.16</td>\n",
       "      <td>-20.0</td>\n",
       "      <td>-23.0</td>\n",
       "      <td>-43.6</td>\n",
       "      <td>-50.3</td>\n",
       "      <td>NaN</td>\n",
       "    </tr>\n",
       "    <tr>\n",
       "      <th>2711</th>\n",
       "      <td>2VLJ_ABC_DE</td>\n",
       "      <td>SE99A</td>\n",
       "      <td>SE95A</td>\n",
       "      <td>SUP</td>\n",
       "      <td>AB</td>\n",
       "      <td>AB</td>\n",
       "      <td>0.000005</td>\n",
       "      <td>0.000005</td>\n",
       "      <td>-0.035206</td>\n",
       "      <td>18275829</td>\n",
       "      <td>...</td>\n",
       "      <td>298</td>\n",
       "      <td>59000.0</td>\n",
       "      <td>31000.0</td>\n",
       "      <td>0.29</td>\n",
       "      <td>0.16</td>\n",
       "      <td>-18.0</td>\n",
       "      <td>-23.0</td>\n",
       "      <td>-33.5</td>\n",
       "      <td>-50.3</td>\n",
       "      <td>NaN</td>\n",
       "    </tr>\n",
       "    <tr>\n",
       "      <th>2712</th>\n",
       "      <td>2VLJ_ABC_DE</td>\n",
       "      <td>YE101A</td>\n",
       "      <td>YE97A</td>\n",
       "      <td>COR</td>\n",
       "      <td>AB</td>\n",
       "      <td>AB</td>\n",
       "      <td>0.000008</td>\n",
       "      <td>0.000005</td>\n",
       "      <td>0.232574</td>\n",
       "      <td>18275829</td>\n",
       "      <td>...</td>\n",
       "      <td>298</td>\n",
       "      <td>NaN</td>\n",
       "      <td>NaN</td>\n",
       "      <td>NaN</td>\n",
       "      <td>NaN</td>\n",
       "      <td>-29.0</td>\n",
       "      <td>-23.0</td>\n",
       "      <td>-73.8</td>\n",
       "      <td>-50.3</td>\n",
       "      <td>NaN</td>\n",
       "    </tr>\n",
       "    <tr>\n",
       "      <th>2713</th>\n",
       "      <td>2VLJ_ABC_DE</td>\n",
       "      <td>YE101F</td>\n",
       "      <td>YE97F</td>\n",
       "      <td>COR</td>\n",
       "      <td>AB</td>\n",
       "      <td>AB</td>\n",
       "      <td>0.000012</td>\n",
       "      <td>0.000005</td>\n",
       "      <td>0.495437</td>\n",
       "      <td>18275829</td>\n",
       "      <td>...</td>\n",
       "      <td>298</td>\n",
       "      <td>18000.0</td>\n",
       "      <td>31000.0</td>\n",
       "      <td>0.21</td>\n",
       "      <td>0.16</td>\n",
       "      <td>-20.0</td>\n",
       "      <td>-23.0</td>\n",
       "      <td>-43.6</td>\n",
       "      <td>-50.3</td>\n",
       "      <td>NaN</td>\n",
       "    </tr>\n",
       "    <tr>\n",
       "      <th>2714</th>\n",
       "      <td>2VLJ_ABC_DE</td>\n",
       "      <td>SD31A</td>\n",
       "      <td>SD29A</td>\n",
       "      <td>COR</td>\n",
       "      <td>AB</td>\n",
       "      <td>AB</td>\n",
       "      <td>0.000015</td>\n",
       "      <td>0.000005</td>\n",
       "      <td>0.627639</td>\n",
       "      <td>18275829</td>\n",
       "      <td>...</td>\n",
       "      <td>298</td>\n",
       "      <td>13000.0</td>\n",
       "      <td>31000.0</td>\n",
       "      <td>0.20</td>\n",
       "      <td>0.16</td>\n",
       "      <td>NaN</td>\n",
       "      <td>NaN</td>\n",
       "      <td>NaN</td>\n",
       "      <td>NaN</td>\n",
       "      <td>NaN</td>\n",
       "    </tr>\n",
       "    <tr>\n",
       "      <th>2715</th>\n",
       "      <td>2VLJ_ABC_DE</td>\n",
       "      <td>SD32A</td>\n",
       "      <td>SD30A</td>\n",
       "      <td>COR</td>\n",
       "      <td>AB</td>\n",
       "      <td>AB</td>\n",
       "      <td>0.000030</td>\n",
       "      <td>0.000005</td>\n",
       "      <td>1.038295</td>\n",
       "      <td>18275829</td>\n",
       "      <td>...</td>\n",
       "      <td>298</td>\n",
       "      <td>15000.0</td>\n",
       "      <td>31000.0</td>\n",
       "      <td>0.46</td>\n",
       "      <td>0.16</td>\n",
       "      <td>-24.0</td>\n",
       "      <td>-23.0</td>\n",
       "      <td>-60.4</td>\n",
       "      <td>-50.3</td>\n",
       "      <td>NaN</td>\n",
       "    </tr>\n",
       "    <tr>\n",
       "      <th>2716</th>\n",
       "      <td>2VLJ_ABC_DE</td>\n",
       "      <td>QD34A</td>\n",
       "      <td>QD32A</td>\n",
       "      <td>SUP</td>\n",
       "      <td>AB</td>\n",
       "      <td>AB</td>\n",
       "      <td>0.000027</td>\n",
       "      <td>0.000005</td>\n",
       "      <td>0.975874</td>\n",
       "      <td>18275829</td>\n",
       "      <td>...</td>\n",
       "      <td>298</td>\n",
       "      <td>38000.0</td>\n",
       "      <td>31000.0</td>\n",
       "      <td>1.03</td>\n",
       "      <td>0.16</td>\n",
       "      <td>-23.0</td>\n",
       "      <td>-23.0</td>\n",
       "      <td>-57.0</td>\n",
       "      <td>-50.3</td>\n",
       "      <td>NaN</td>\n",
       "    </tr>\n",
       "  </tbody>\n",
       "</table>\n",
       "<p>14 rows × 24 columns</p>\n",
       "</div>"
      ],
      "text/plain": [
       "          Protein Mutation(s)_PDB Mutation(s)_cleaned Location(s)  \\\n",
       "2703  2VLJ_ABC_DE           DE32A               DE28A         COR   \n",
       "2704  2VLJ_ABC_DE           IE53V               IE49V         COR   \n",
       "2705  2VLJ_ABC_DE           IE53L               IE49L         COR   \n",
       "2706  2VLJ_ABC_DE           NE55A               NE51A         RIM   \n",
       "2707  2VLJ_ABC_DE           NE55D               NE51D         RIM   \n",
       "2708  2VLJ_ABC_DE           DE56A               DE52A         COR   \n",
       "2709  2VLJ_ABC_DE           QE58A               QE54A         COR   \n",
       "2710  2VLJ_ABC_DE           QE58E               QE54E         COR   \n",
       "2711  2VLJ_ABC_DE           SE99A               SE95A         SUP   \n",
       "2712  2VLJ_ABC_DE          YE101A               YE97A         COR   \n",
       "2713  2VLJ_ABC_DE          YE101F               YE97F         COR   \n",
       "2714  2VLJ_ABC_DE           SD31A               SD29A         COR   \n",
       "2715  2VLJ_ABC_DE           SD32A               SD30A         COR   \n",
       "2716  2VLJ_ABC_DE           QD34A               QD32A         SUP   \n",
       "\n",
       "     Hold_out_type Hold_out_proteins  Affinity_mut (M)  Affinity_wt (M)  \\\n",
       "2703            AB                AB          0.000074         0.000005   \n",
       "2704            AB                AB          0.000007         0.000005   \n",
       "2705            AB                AB          0.000057         0.000005   \n",
       "2706            AB                AB          0.000035         0.000005   \n",
       "2707            AB                AB          0.000012         0.000005   \n",
       "2708            AB                AB          0.000006         0.000005   \n",
       "2709            AB                AB          0.000012         0.000005   \n",
       "2710            AB                AB          0.000005         0.000005   \n",
       "2711            AB                AB          0.000005         0.000005   \n",
       "2712            AB                AB          0.000008         0.000005   \n",
       "2713            AB                AB          0.000012         0.000005   \n",
       "2714            AB                AB          0.000015         0.000005   \n",
       "2715            AB                AB          0.000030         0.000005   \n",
       "2716            AB                AB          0.000027         0.000005   \n",
       "\n",
       "           DDG Reference  ...   Temperature kon_mut (M^(-1)s^(-1))  \\\n",
       "2703  1.573201  18275829  ...           298                    NaN   \n",
       "2704  0.200969  18275829  ...           298                17100.0   \n",
       "2705  1.418563  18275829  ...           298                 7000.0   \n",
       "2706  1.129622  18275829  ...           298                18000.0   \n",
       "2707  0.495437  18275829  ...           298                32300.0   \n",
       "2708  0.132202  18275829  ...           298                38000.0   \n",
       "2709  0.495437  18275829  ...           298                28000.0   \n",
       "2710  0.000000  18275829  ...           298                50000.0   \n",
       "2711 -0.035206  18275829  ...           298                59000.0   \n",
       "2712  0.232574  18275829  ...           298                    NaN   \n",
       "2713  0.495437  18275829  ...           298                18000.0   \n",
       "2714  0.627639  18275829  ...           298                13000.0   \n",
       "2715  1.038295  18275829  ...           298                15000.0   \n",
       "2716  0.975874  18275829  ...           298                38000.0   \n",
       "\n",
       "      kon_wt (M^(-1)s^(-1))  koff_mut (s^(-1)) koff_wt (s^(-1))  \\\n",
       "2703                    NaN                NaN              NaN   \n",
       "2704                31000.0               0.13             0.16   \n",
       "2705                31000.0               0.40             0.16   \n",
       "2706                31000.0               0.63             0.16   \n",
       "2707                31000.0               0.38             0.16   \n",
       "2708                31000.0               0.25             0.16   \n",
       "2709                31000.0               0.34             0.16   \n",
       "2710                31000.0               0.26             0.16   \n",
       "2711                31000.0               0.29             0.16   \n",
       "2712                    NaN                NaN              NaN   \n",
       "2713                31000.0               0.21             0.16   \n",
       "2714                31000.0               0.20             0.16   \n",
       "2715                31000.0               0.46             0.16   \n",
       "2716                31000.0               1.03             0.16   \n",
       "\n",
       "      dH_mut (kcal mol^(-1))  dH_wt (kcal mol^(-1))  \\\n",
       "2703                     NaN                    NaN   \n",
       "2704                   -22.0                  -23.0   \n",
       "2705                     NaN                    NaN   \n",
       "2706                   -18.0                  -23.0   \n",
       "2707                     NaN                    NaN   \n",
       "2708                   -24.0                  -23.0   \n",
       "2709                   -18.0                  -23.0   \n",
       "2710                   -20.0                  -23.0   \n",
       "2711                   -18.0                  -23.0   \n",
       "2712                   -29.0                  -23.0   \n",
       "2713                   -20.0                  -23.0   \n",
       "2714                     NaN                    NaN   \n",
       "2715                   -24.0                  -23.0   \n",
       "2716                   -23.0                  -23.0   \n",
       "\n",
       "      dS_mut (cal mol^(-1) K^(-1))  dS_wt (cal mol^(-1) K^(-1))  Notes  \n",
       "2703                           NaN                          NaN    NaN  \n",
       "2704                         -50.3                        -50.3    NaN  \n",
       "2705                           NaN                          NaN    NaN  \n",
       "2706                         -40.2                        -50.3    NaN  \n",
       "2707                           NaN                          NaN    NaN  \n",
       "2708                         -57.0                        -50.3    NaN  \n",
       "2709                         -36.9                        -50.3    NaN  \n",
       "2710                         -43.6                        -50.3    NaN  \n",
       "2711                         -33.5                        -50.3    NaN  \n",
       "2712                         -73.8                        -50.3    NaN  \n",
       "2713                         -43.6                        -50.3    NaN  \n",
       "2714                           NaN                          NaN    NaN  \n",
       "2715                         -60.4                        -50.3    NaN  \n",
       "2716                         -57.0                        -50.3    NaN  \n",
       "\n",
       "[14 rows x 24 columns]"
      ]
     },
     "execution_count": 4,
     "metadata": {},
     "output_type": "execute_result"
    }
   ],
   "source": [
    "skempi_df[skempi_df.Protein==\"2VLJ_ABC_DE\"]"
   ]
  },
  {
   "cell_type": "code",
   "execution_count": 5,
   "metadata": {},
   "outputs": [],
   "source": [
    "from skempi_utils import *\n",
    "import skempi_consts as consts"
   ]
  },
  {
   "cell_type": "code",
   "execution_count": 6,
   "metadata": {},
   "outputs": [],
   "source": [
    "record = SkempiStruct(\"2VLJ\", \"ABC\", \"DE\")"
   ]
  },
  {
   "cell_type": "code",
   "execution_count": 7,
   "metadata": {},
   "outputs": [
    {
     "data": {
      "text/plain": [
       "'GSHSMRYFFTSVSRPGRGEPRFIAVGYVDDTQFVRFDSDAASQRMEPRAPWIEQEGPEYWDGETRKVKAHSQTHRVDLGTLRGYYNQSEAGSHTVQRMYGCDVGSDWRFLRGYHQYAYDGKDYIALKEDLRSWTAADMAAQTTKHKWEAAHVAEQLRAYLEGTCVEWLRRYLENGKETLQRTDAPKTHMTHHAVSDHEATLRCWALSFYPAEITLTWQRDGEDQTQDTELVETRPAGDGTFQKWAAVVVPSGQEQRYTCHVQHEGLPKPLTLRWEP'"
      ]
     },
     "execution_count": 7,
     "metadata": {},
     "output_type": "execute_result"
    }
   ],
   "source": [
    "record['A'].seq"
   ]
  },
  {
   "cell_type": "code",
   "execution_count": 8,
   "metadata": {},
   "outputs": [
    {
     "name": "stdout",
     "output_type": "stream",
     "text": [
      "set([('A', 1), ('A', 27), ('A', 0), ('A', 179), ('A', 100), ('A', 178), ('A', 167), ('A', 102), ('A', 171), ('A', 101), ('A', 106), ('A', 4), ('A', 3), ('A', 2), ('A', 28)])\n",
      "set([('A', 2)])\n",
      "0.0017559262511\n",
      "<SkempiStruct 2VLJ_ABC_DE>\n"
     ]
    }
   ],
   "source": [
    "record.compute_dist_mat()\n",
    "sphere_ix = record.get_sphere_indices('A', 2, 6)\n",
    "print(sphere_ix)\n",
    "shell_ix = record.get_shell_indices('A', 2, 1, 1.5)\n",
    "print(shell_ix)\n",
    "print(record.get_profile('A')[(2, 'A')])\n",
    "print(record)"
   ]
  },
  {
   "cell_type": "code",
   "execution_count": 9,
   "metadata": {},
   "outputs": [
    {
     "name": "stderr",
     "output_type": "stream",
     "text": [
      "row processed: 100%|██████████| 3047/3047 [00:00<00:00, 7287.89it/s]\n"
     ]
    },
    {
     "data": {
      "text/plain": [
       "5177"
      ]
     },
     "execution_count": 9,
     "metadata": {},
     "output_type": "execute_result"
    }
   ],
   "source": [
    "num_mut = 0\n",
    "pbar = tqdm(range(len(skempi_df)), desc=\"row processed\")\n",
    "for i, row in skempi_df.iterrows():\n",
    "    num_mut += len(row[\"Mutation(s)_cleaned\"].split(','))\n",
    "    pbar.update(1)\n",
    "pbar.close()\n",
    "num_mut"
   ]
  },
  {
   "cell_type": "code",
   "execution_count": 10,
   "metadata": {},
   "outputs": [],
   "source": [
    "from scipy.stats import pearsonr"
   ]
  },
  {
   "cell_type": "code",
   "execution_count": 11,
   "metadata": {},
   "outputs": [],
   "source": [
    "all_features = {}"
   ]
  },
  {
   "cell_type": "code",
   "execution_count": 12,
   "metadata": {},
   "outputs": [
    {
     "name": "stderr",
     "output_type": "stream",
     "text": [
      "skempi structures processed: 100%|██████████| 158/158 [00:46<00:00,  3.37it/s]\n",
      "row processed: 100%|██████████| 3047/3047 [00:01<00:00, 2196.76it/s]\n"
     ]
    },
    {
     "data": {
      "text/plain": [
       "(-0.26127841191178325, 9.7224897486097619e-49)"
      ]
     },
     "execution_count": 12,
     "metadata": {},
     "output_type": "execute_result"
    }
   ],
   "source": [
    "def get_temperature_array(records, agg=np.min):\n",
    "    arr = []\n",
    "    pbar = tqdm(range(len(skempi_df)), desc=\"row processed\")\n",
    "    for i, row in skempi_df.iterrows():\n",
    "        arr_obs_mut = []\n",
    "        for mutation in row[\"Mutation(s)_cleaned\"].split(','):\n",
    "            mut = Mutation(mutation)\n",
    "            res_i, chain_id = mut.i, mut.chain_id\n",
    "            t = tuple(row.Protein.split('_'))\n",
    "            skempi_record = records[t]\n",
    "            res = skempi_record[chain_id][res_i]\n",
    "            temps = [a.temp for a in res.atoms]\n",
    "            arr_obs_mut.append(np.mean(temps))\n",
    "        arr.append(agg(arr_obs_mut))\n",
    "        pbar.update(1)\n",
    "    pbar.close()\n",
    "    return arr\n",
    "\n",
    "skempi_records = load_skempi_structs(pdb_path=\"../data/pdbs_n\", compute_dist_mat=False)\n",
    "all_features[\"B-factor\"] = temp_arr = get_temperature_array(skempi_records, agg=np.min)\n",
    "pearsonr(temp_arr, skempi_df.DDG)"
   ]
  },
  {
   "cell_type": "code",
   "execution_count": 13,
   "metadata": {},
   "outputs": [],
   "source": [
    "from aaindex import *\n",
    "B = BLOSUM62\n",
    "C = SKOJ970101"
   ]
  },
  {
   "cell_type": "code",
   "execution_count": 14,
   "metadata": {
    "scrolled": true
   },
   "outputs": [
    {
     "name": "stderr",
     "output_type": "stream",
     "text": [
      "skempi structures processed: 100%|██████████| 158/158 [00:57<00:00,  2.74it/s]\n"
     ]
    }
   ],
   "source": [
    "skempi_records = load_skempi_structs(pdb_path=\"../data/pdbs\")"
   ]
  },
  {
   "cell_type": "code",
   "execution_count": 15,
   "metadata": {
    "scrolled": false
   },
   "outputs": [],
   "source": [
    "def comp_ei(mut, skempi_record, B, radius):\n",
    "    P = skempi_record.get_profile(mut.chain_id)\n",
    "    return EI(mut.m, mut.w, P, mut.i, B)\n",
    "\n",
    "\n",
    "def comp_cp(mut, skempi_record, C, radius):\n",
    "    return CP(mut, skempi_record, C, radius)\n",
    "\n",
    "\n",
    "def get_ddg_ei_cp_arrays(M, func, radius=None):\n",
    "    arr_ddg = []\n",
    "    arr_obs = []\n",
    "    pbar = tqdm(range(len(skempi_df)), desc=\"row processed\")\n",
    "    for i, row in skempi_df.iterrows():\n",
    "        ddg = row.DDG\n",
    "        arr_ddg.append(ddg)\n",
    "        arr_obs_mut = []\n",
    "        for mutation in row[\"Mutation(s)_cleaned\"].split(','):\n",
    "            mut = Mutation(mutation)\n",
    "            t = tuple(row.Protein.split('_'))\n",
    "            skempi_record = skempi_records[t]\n",
    "            obs = func(mut, skempi_record, M, radius)\n",
    "            arr_obs_mut.append(obs)\n",
    "        arr_obs.append(np.sum(arr_obs_mut))\n",
    "        pbar.update(1)\n",
    "    pbar.close()\n",
    "    return arr_ddg, arr_obs"
   ]
  },
  {
   "cell_type": "code",
   "execution_count": 16,
   "metadata": {},
   "outputs": [],
   "source": [
    "from itertools import product\n",
    "\n",
    "def grid_search_cp(matrices=[SKOJ970101, BASU010101], radiuses=[4, 5, 6, 7, 8, 9, 10]):\n",
    "    res_dict = {}\n",
    "    for C, angs in product(matrices, radiuses):\n",
    "        key = (str(C), angs)\n",
    "        arr_ddg, arr_cp = get_ddg_ei_cp_arrays(C, comp_cp, angs)\n",
    "        res_dict[key] = (arr_ddg, arr_cp)\n",
    "        cor_cp = pearsonr(arr_ddg, arr_cp)\n",
    "        print(\"%s: CP: %s\" % (key, cor_cp,))\n",
    "    return res_dict\n",
    "\n",
    "def grid_search_ei(matrices=[BLOSUM62, SKOJ970101, BASU010101]):\n",
    "    res_dict = {}\n",
    "    for B in matrices:\n",
    "        key = str(B)\n",
    "        arr_ddg, arr_ei = get_ddg_ei_cp_arrays(B, comp_ei)\n",
    "        res_dict[key] = (arr_ddg, arr_ei)\n",
    "        cor_ei = pearsonr(arr_ddg, arr_ei)\n",
    "        print(\"%s: EI: %s\" % (key, cor_ei,))\n",
    "    return res_dict"
   ]
  },
  {
   "cell_type": "code",
   "execution_count": 17,
   "metadata": {},
   "outputs": [],
   "source": [
    "# cps = grid_search_cp()"
   ]
  },
  {
   "cell_type": "code",
   "execution_count": 18,
   "metadata": {},
   "outputs": [],
   "source": [
    "def comp_cp_a_b(mut, skempi_record, C, radius):\n",
    "    return CP_A_B(mut, skempi_record, C, radius)\n",
    "\n",
    "\n",
    "def get_ddg_cp_a_b_arrays(M, func, radius=None):\n",
    "    arr_ddg = []\n",
    "    arr_obs_a = []\n",
    "    arr_obs_b = []\n",
    "    pbar = tqdm(range(len(skempi_df)), desc=\"row processed\")\n",
    "    for i, row in skempi_df.iterrows():\n",
    "        ddg = row.DDG\n",
    "        arr_ddg.append(ddg)\n",
    "        arr_obs_mut_a = []\n",
    "        arr_obs_mut_b = []\n",
    "        for mutation in row[\"Mutation(s)_cleaned\"].split(','):\n",
    "            mut = Mutation(mutation)\n",
    "            t = tuple(row.Protein.split('_'))\n",
    "            skempi_record = skempi_records[t]\n",
    "            obs_a, obs_b = func(mut, skempi_record, M, radius)\n",
    "            arr_obs_mut_a.append(obs_a)\n",
    "            arr_obs_mut_b.append(obs_b)\n",
    "        arr_obs_a.append(np.sum(arr_obs_mut_a))\n",
    "        arr_obs_b.append(np.sum(arr_obs_mut_b))\n",
    "        pbar.update(1)\n",
    "    pbar.close()\n",
    "    return arr_ddg, arr_obs_a, arr_obs_b\n",
    "\n",
    "\n",
    "def grid_search_cp_a_b(matrices=[SKOJ970101, BASU010101], radiuses=[4, 5, 6, 7, 8, 9, 10]):\n",
    "    res_dict = {}\n",
    "    for C, angs in product(matrices, radiuses):\n",
    "        key = (str(C), angs)\n",
    "        arr_ddg, arr_cp_a, arr_cp_b  = get_ddg_cp_a_b_arrays(C, comp_cp_a_b, angs)\n",
    "        arr_cp = np.asarray(arr_cp_a) + np.asarray(arr_cp_b)\n",
    "        res_dict[key] = (arr_ddg, arr_cp_a, arr_cp_b)\n",
    "        cor_cp_a = pearsonr(arr_ddg, arr_cp_a)\n",
    "        cor_cp_b = pearsonr(arr_ddg, arr_cp_b)\n",
    "        cor_cp = pearsonr(arr_ddg, arr_cp)\n",
    "        print(\"%s: CP_A: %s, CP_B: %s, CP %s\" % (key, cor_cp_a, cor_cp_b, cor_cp))\n",
    "    return res_dict"
   ]
  },
  {
   "cell_type": "code",
   "execution_count": 19,
   "metadata": {},
   "outputs": [],
   "source": [
    "def CP_A_B(mut, skempi, C, radius=6):\n",
    "    \n",
    "    i, chain_a = mut.i, mut.chain_id\n",
    "    m, w = mut.m, mut.w\n",
    "    \n",
    "    def helper(P, j):\n",
    "        return sum([P[(j, a)] * (C[(a, m)] - C[(a, w)]) for a in amino_acids])\n",
    "    \n",
    "    retA, retB = 0, 0\n",
    "    for chain_b, j in skempi.get_sphere_indices(chain_a, i,radius):\n",
    "\n",
    "        a = skempi[chain_b][j].name\n",
    "        if j == i and chain_b == chain_a:\n",
    "            assert a == w\n",
    "            continue\n",
    "                \n",
    "        P = skempi.get_profile(chain_b) \n",
    "\n",
    "        if chain_b == chain_a:  \n",
    "            retA += helper(P, j)\n",
    "        \n",
    "        else:\n",
    "            retB += helper(P, j)\n",
    "    \n",
    "    return retA, retB"
   ]
  },
  {
   "cell_type": "code",
   "execution_count": 20,
   "metadata": {},
   "outputs": [],
   "source": [
    "# cp_a_b_s_orig = grid_search_cp_a_b(matrices=[SKOJ970101, BASU010101], radiuses=[4, 5, 6, 7, 8, 9, 10])"
   ]
  },
  {
   "cell_type": "code",
   "execution_count": 21,
   "metadata": {},
   "outputs": [],
   "source": [
    "def CP_A_B(mut, skempi, C, radius=6):\n",
    "    \n",
    "    i, chain_a = mut.i, mut.chain_id\n",
    "    m, w = mut.m, mut.w\n",
    "    \n",
    "    def helper(a, j):\n",
    "        return C[(a, m)] - C[(a, w)]\n",
    "    \n",
    "    retA, retB = 0, 0\n",
    "    for chain_b, j in skempi.get_sphere_indices(chain_a, i, radius):\n",
    "\n",
    "        a = skempi[chain_b][j].name\n",
    "        if j == i and chain_b == chain_a:\n",
    "            assert a == w\n",
    "            continue\n",
    "                \n",
    "        P = skempi.get_profile(chain_b) \n",
    "\n",
    "        if chain_b == chain_a:  \n",
    "            retA += helper(a, j)\n",
    "        \n",
    "        else:\n",
    "            retB += helper(a, j)\n",
    "    \n",
    "    return retA, retB"
   ]
  },
  {
   "cell_type": "code",
   "execution_count": 22,
   "metadata": {},
   "outputs": [],
   "source": [
    "# cp_a_b_s_no_profile = grid_search_cp_a_b(matrices=[BASU010101], radiuses=[2.5, 3.75, 5.0, 6.25, 7.5, 8.75, 10.0])"
   ]
  },
  {
   "cell_type": "code",
   "execution_count": 23,
   "metadata": {},
   "outputs": [],
   "source": [
    "def CP_A_B(mut, skempi, C, radius=6):\n",
    "    \n",
    "    i, chain_a = mut.i, mut.chain_id\n",
    "    m, w = mut.m, mut.w\n",
    "    \n",
    "    def helper(P, j):\n",
    "        return sum([0.05 * (C[(a, m)] - C[(a, w)]) for a in amino_acids])\n",
    "    \n",
    "    retA, retB = 0, 0\n",
    "    for chain_b, j in skempi.get_sphere_indices(chain_a, i,radius):\n",
    "\n",
    "        a = skempi[chain_b][j].name\n",
    "        if j == i and chain_b == chain_a:\n",
    "            assert a == w\n",
    "            continue\n",
    "                \n",
    "        P = skempi.get_profile(chain_b) \n",
    "\n",
    "        if chain_b == chain_a:  \n",
    "            retA += helper(P, j)\n",
    "        \n",
    "        else:\n",
    "            retB += helper(P, j)\n",
    "    \n",
    "    return retA, retB"
   ]
  },
  {
   "cell_type": "code",
   "execution_count": 24,
   "metadata": {},
   "outputs": [],
   "source": [
    "# cp_a_b_s_uniform = grid_search_cp_a_b(matrices=[SKOJ970101, BASU010101], radiuses=[6, 7])"
   ]
  },
  {
   "cell_type": "code",
   "execution_count": 25,
   "metadata": {},
   "outputs": [
    {
     "name": "stderr",
     "output_type": "stream",
     "text": [
      "row processed: 100%|██████████| 3047/3047 [00:01<00:00, 2859.49it/s]"
     ]
    },
    {
     "name": "stdout",
     "output_type": "stream",
     "text": [
      "BLOSUM62: EI: (-0.27028535068257847, 3.6876795510218673e-52)\n"
     ]
    },
    {
     "name": "stderr",
     "output_type": "stream",
     "text": [
      "\n"
     ]
    }
   ],
   "source": [
    "eis = grid_search_ei(matrices=[BLOSUM62])"
   ]
  },
  {
   "cell_type": "code",
   "execution_count": 26,
   "metadata": {},
   "outputs": [],
   "source": [
    "def register_cp_a_b(cp_a_b, prefix):\n",
    "    for key, val in cp_a_b.iteritems():\n",
    "        _, cp_a, cp_b = val\n",
    "        mat, rad = key\n",
    "        all_features[(prefix, \"CP_A\", mat, rad)] = cp_a\n",
    "        all_features[(prefix, \"CP_B\", mat, rad)] = cp_b\n",
    "        \n",
    "def register_cp_a_b_shells(cp_a_b, prefix):\n",
    "    for key, val in cp_a_b.iteritems():\n",
    "        _, cp_a, cp_b = val\n",
    "        mat, inner, outer = key\n",
    "        all_features[(prefix, \"CP_A\", mat, inner, outer)] = cp_a\n",
    "        all_features[(prefix, \"CP_B\", mat, inner, outer)] = cp_b\n",
    "        all_features[(prefix, \"CP\", mat, inner, outer)] = np.sum([cp_a, cp_b], axis=0)\n",
    "        \n",
    "def register_eis(eis):\n",
    "    for key, val in eis.iteritems():\n",
    "        _, ei = val\n",
    "        all_features[(\"EI\", key)] = ei"
   ]
  },
  {
   "cell_type": "code",
   "execution_count": 27,
   "metadata": {},
   "outputs": [],
   "source": [
    "def CP_A_B(mut, skempi, C, inner, outer):\n",
    "    \n",
    "    i, chain_a = mut.i, mut.chain_id\n",
    "    m, w = mut.m, mut.w\n",
    "    \n",
    "    retA, retB = 0, 0\n",
    "    for chain_id, j in skempi.get_shell_indices(chain_a, i, inner, outer):\n",
    "\n",
    "        a = skempi[chain_id][j].name\n",
    "        if j == i and chain_id == chain_a:\n",
    "            assert a == w\n",
    "            continue\n",
    "                \n",
    "        P = skempi.get_profile(chain_id) \n",
    "\n",
    "        if chain_id == chain_a:  \n",
    "            retA += C[(a, m)] - C[(a, w)]\n",
    "        else:\n",
    "            retB += C[(a, m)] - C[(a, w)]\n",
    "    \n",
    "    return retA, retB"
   ]
  },
  {
   "cell_type": "code",
   "execution_count": 28,
   "metadata": {},
   "outputs": [],
   "source": [
    "def get_cp_a_b_array(M, inner, outer):\n",
    "    arr_obs_a = []\n",
    "    arr_obs_b = []\n",
    "    pbar = tqdm(range(len(skempi_df)), desc=\"row processed\")\n",
    "    for i, row in skempi_df.iterrows():\n",
    "        arr_obs_mut_a = []\n",
    "        arr_obs_mut_b = []\n",
    "        for mutation in row[\"Mutation(s)_cleaned\"].split(','):\n",
    "            mut = Mutation(mutation)\n",
    "            t = tuple(row.Protein.split('_'))\n",
    "            skempi_record = skempi_records[t]\n",
    "            obs_a, obs_b = CP_A_B(mut, skempi_record, M, inner, outer)\n",
    "            arr_obs_mut_a.append(obs_a)\n",
    "            arr_obs_mut_b.append(obs_b)\n",
    "        arr_obs_a.append(np.sum(arr_obs_mut_a))\n",
    "        arr_obs_b.append(np.sum(arr_obs_mut_b))\n",
    "        pbar.update(1)\n",
    "    pbar.close()\n",
    "    return arr_obs_a, arr_obs_b\n"
   ]
  },
  {
   "cell_type": "code",
   "execution_count": 29,
   "metadata": {},
   "outputs": [
    {
     "name": "stderr",
     "output_type": "stream",
     "text": [
      "row processed: 100%|██████████| 3047/3047 [00:01<00:00, 1997.60it/s]\n",
      "/home/yotamfr/development/skempi/skempi2/lib/python2.7/site-packages/scipy/stats/stats.py:3010: RuntimeWarning: invalid value encountered in double_scalars\n",
      "  r = r_num / r_den\n",
      "row processed:   6%|▋         | 197/3047 [00:00<00:01, 1968.52it/s]"
     ]
    },
    {
     "name": "stdout",
     "output_type": "stream",
     "text": [
      "('BASU010101', 0.0, 2.0): CP_A: (nan, 1.0), CP_B: (nan, 1.0), CP (nan, 1.0)\n"
     ]
    },
    {
     "name": "stderr",
     "output_type": "stream",
     "text": [
      "row processed: 100%|██████████| 3047/3047 [00:01<00:00, 1821.56it/s]\n",
      "row processed:   5%|▌         | 165/3047 [00:00<00:01, 1648.32it/s]"
     ]
    },
    {
     "name": "stdout",
     "output_type": "stream",
     "text": [
      "('BASU010101', 2.0, 4.0): CP_A: (0.10747008966835973, 2.7292374112956823e-09), CP_B: (0.21584991101788475, 1.8863222839984622e-33), CP (0.1881605058816436, 1.1155323351514019e-25)\n"
     ]
    },
    {
     "name": "stderr",
     "output_type": "stream",
     "text": [
      "row processed: 100%|██████████| 3047/3047 [00:01<00:00, 1543.97it/s]\n",
      "row processed:   3%|▎         | 105/3047 [00:00<00:02, 1049.33it/s]"
     ]
    },
    {
     "name": "stdout",
     "output_type": "stream",
     "text": [
      "('BASU010101', 4.0, 6.0): CP_A: (0.13469794905420057, 8.2496700290367863e-14), CP_B: (0.32195124705919709, 1.9785883499632363e-74), CP (0.24393763258146428, 1.6049648848021822e-42)\n"
     ]
    },
    {
     "name": "stderr",
     "output_type": "stream",
     "text": [
      "row processed: 100%|██████████| 3047/3047 [00:02<00:00, 1281.59it/s]"
     ]
    },
    {
     "name": "stdout",
     "output_type": "stream",
     "text": [
      "('BASU010101', 6.0, 8.0): CP_A: (0.13144064017289286, 3.23774711194613e-13), CP_B: (0.34863398298609077, 8.4955683746223299e-88), CP (0.26259906362518293, 3.1220607382065014e-49)\n"
     ]
    },
    {
     "name": "stderr",
     "output_type": "stream",
     "text": [
      "\n"
     ]
    }
   ],
   "source": [
    "matrices = [BASU010101]\n",
    "shells = [(0.0, 2.0), (2.0, 4.0), (4.0, 6.0), (6.0, 8.0)]\n",
    "\n",
    "def grid_search_cp(matrices=matrices, shells=shells):\n",
    "    res_dict = {}\n",
    "    grid = [(mat, shell) for mat in matrices for shell in shells]\n",
    "    for mat, (inner, outer) in grid:\n",
    "        arr_cp_a, arr_cp_b  = get_cp_a_b_array(mat, inner, outer)\n",
    "        arr_cp = np.asarray(arr_cp_a) + np.asarray(arr_cp_b)\n",
    "        arr_ddg = skempi_df.DDG\n",
    "        cor_cp_a = pearsonr(arr_ddg, arr_cp_a)\n",
    "        cor_cp_b = pearsonr(arr_ddg, arr_cp_b)\n",
    "        cor_cp = pearsonr(arr_ddg, arr_cp)\n",
    "        key = (str(mat), inner, outer)\n",
    "        res_dict[key] = (arr_ddg, arr_cp_a, arr_cp_b)\n",
    "        print(\"%s: CP_A: %s, CP_B: %s, CP %s\" % (key, cor_cp_a, cor_cp_b, cor_cp))\n",
    "    return res_dict\n",
    "\n",
    "cp_a_b_s_shells = grid_search_cp(matrices, shells)"
   ]
  },
  {
   "cell_type": "code",
   "execution_count": 30,
   "metadata": {},
   "outputs": [],
   "source": [
    "# register_cp_a_b(cp_a_b_s_uniform, \"uniform\")\n",
    "# register_cp_a_b(cp_a_b_s_orig, \"original\")\n",
    "# register_cp_a_b(cp_a_b_s_no_profile, \"no_profile\")\n",
    "register_cp_a_b_shells(cp_a_b_s_shells, \"shells\")\n",
    "register_eis(eis)"
   ]
  },
  {
   "cell_type": "code",
   "execution_count": 31,
   "metadata": {},
   "outputs": [
    {
     "data": {
      "text/plain": [
       "((0.21924597848778335, 1.7513323606150017e-34),\n",
       " (0.13427861416945261, 9.8559457179327132e-14))"
      ]
     },
     "execution_count": 31,
     "metadata": {},
     "output_type": "execute_result"
    }
   ],
   "source": [
    "num_muts = np.asarray([len(mut.split(\",\")) for mut in skempi_df[\"Mutation(s)_cleaned\"]])\n",
    "pearsonr(skempi_df.DDG, np.log(num_muts)), pearsonr(skempi_df.DDG, num_muts)"
   ]
  },
  {
   "cell_type": "code",
   "execution_count": 32,
   "metadata": {},
   "outputs": [],
   "source": [
    "all_features[\"#mutations\"] = np.log(num_muts)"
   ]
  },
  {
   "cell_type": "code",
   "execution_count": 33,
   "metadata": {},
   "outputs": [],
   "source": [
    "def get_stride_array(func, agg=np.sum):\n",
    "    arr_stride = []\n",
    "    pbar = tqdm(range(len(skempi_df)), desc=\"row processed\")\n",
    "    for i, row in skempi_df.iterrows():\n",
    "        arr_obs_mut = []\n",
    "        for mutation in row[\"Mutation(s)_cleaned\"].split(','):\n",
    "            mut = Mutation(mutation)\n",
    "            res_i, chain_id = mut.i, mut.chain_id\n",
    "            t = tuple(row.Protein.split('_'))\n",
    "            skempi_record = skempi_records[t]\n",
    "            d_asa = skempi_record.stride[(chain_id, res_i)]\n",
    "            obs = func(d_asa)\n",
    "            arr_obs_mut.append(obs)\n",
    "        total = skempi_record.stride._total\n",
    "        arr_stride.append((agg(arr_obs_mut), total))\n",
    "        pbar.update(1)\n",
    "    pbar.close()\n",
    "    return arr_stride"
   ]
  },
  {
   "cell_type": "code",
   "execution_count": 34,
   "metadata": {
    "scrolled": true
   },
   "outputs": [
    {
     "name": "stderr",
     "output_type": "stream",
     "text": [
      "row processed: 100%|██████████| 3047/3047 [00:00<00:00, 3741.28it/s]\n"
     ]
    }
   ],
   "source": [
    "asa_arr_mutated, asa_arr_total = zip(*get_stride_array(lambda stride: stride[\"ASA_Chain\"]-stride[\"ASA\"]))"
   ]
  },
  {
   "cell_type": "code",
   "execution_count": 35,
   "metadata": {},
   "outputs": [
    {
     "data": {
      "text/plain": [
       "(0.44807091830983697, 2.1281783251917486e-150)"
      ]
     },
     "execution_count": 35,
     "metadata": {},
     "output_type": "execute_result"
    }
   ],
   "source": [
    "all_features[\"sum(ASA_Chain-ASA):mutated\"] = asa_arr_mutated\n",
    "pearsonr(skempi_df.DDG, asa_arr_mutated)"
   ]
  },
  {
   "cell_type": "code",
   "execution_count": 36,
   "metadata": {},
   "outputs": [
    {
     "data": {
      "text/plain": [
       "(-0.10497237282886315, 6.3181344671734397e-09)"
      ]
     },
     "execution_count": 36,
     "metadata": {},
     "output_type": "execute_result"
    }
   ],
   "source": [
    "all_features[\"sum(ASA_Chain-ASA):total\"] = asa_arr_total\n",
    "pearsonr(skempi_df.DDG, asa_arr_total)"
   ]
  },
  {
   "cell_type": "code",
   "execution_count": 37,
   "metadata": {},
   "outputs": [],
   "source": [
    "def get_desc_array(mat, agg=np.mean):\n",
    "    arr = []\n",
    "    pbar = tqdm(range(len(skempi_df)), desc=\"row processed\")\n",
    "    for i, row in skempi_df.iterrows():\n",
    "        arr_obs_mut = []\n",
    "        for mutation in row[\"Mutation(s)_cleaned\"].split(','):\n",
    "            mut = Mutation(mutation)\n",
    "            res_i, chain_id = mut.i, mut.chain_id\n",
    "            t = tuple(row.Protein.split('_'))\n",
    "            skempi_record = skempi_records[t]\n",
    "            res = skempi_record[chain_id][res_i]\n",
    "            desc = mat[mut.m] - mat[mut.w]\n",
    "            arr_obs_mut.append(desc)\n",
    "        arr.append(agg(arr_obs_mut))\n",
    "        pbar.update(1)\n",
    "    pbar.close()\n",
    "    return arr"
   ]
  },
  {
   "cell_type": "code",
   "execution_count": 38,
   "metadata": {},
   "outputs": [
    {
     "name": "stderr",
     "output_type": "stream",
     "text": [
      "row processed: 100%|██████████| 3047/3047 [00:00<00:00, 3791.70it/s]\n"
     ]
    },
    {
     "data": {
      "text/plain": [
       "(-0.091488260683632652, 4.2221663948409655e-07)"
      ]
     },
     "execution_count": 38,
     "metadata": {},
     "output_type": "execute_result"
    }
   ],
   "source": [
    "M = FASG760101\n",
    "mol_arr = get_desc_array(M, np.mean)\n",
    "all_features[\"MolWeight\"] = mol_arr\n",
    "pearsonr(mol_arr, skempi_df.DDG)"
   ]
  },
  {
   "cell_type": "code",
   "execution_count": 39,
   "metadata": {},
   "outputs": [
    {
     "name": "stderr",
     "output_type": "stream",
     "text": [
      "row processed: 100%|██████████| 3047/3047 [00:00<00:00, 3320.21it/s]\n"
     ]
    },
    {
     "data": {
      "text/plain": [
       "(-0.11744770075985848, 7.8771918513956187e-11)"
      ]
     },
     "execution_count": 39,
     "metadata": {},
     "output_type": "execute_result"
    }
   ],
   "source": [
    "H = ARGP820101\n",
    "hyd_arr = get_desc_array(H, np.mean)\n",
    "all_features[\"Hydrophobic\"] = hyd_arr\n",
    "pearsonr(hyd_arr, skempi_df.DDG)"
   ]
  },
  {
   "cell_type": "code",
   "execution_count": 40,
   "metadata": {},
   "outputs": [],
   "source": [
    "DSSP = [\"G\", \"H\", \"I\", \"T\", \"E\", \"B\", \"S\", \"C\"]\n",
    "\n",
    "from sklearn import preprocessing\n",
    "lb = preprocessing.LabelBinarizer()\n",
    "\n",
    "lb.fit(DSSP) \n",
    "\n",
    "def get_bin_ss(stride):\n",
    "    return lb.transform([stride[\"SS\"]])[0]"
   ]
  },
  {
   "cell_type": "code",
   "execution_count": 41,
   "metadata": {
    "scrolled": true
   },
   "outputs": [
    {
     "name": "stderr",
     "output_type": "stream",
     "text": [
      "row processed: 100%|██████████| 3047/3047 [00:03<00:00, 999.36it/s] \n"
     ]
    },
    {
     "data": {
      "text/plain": [
       "[(0.089741283447261219, 6.9890640112449523e-07),\n",
       " (-0.20117361710368117, 3.4419911412303145e-29),\n",
       " (0.070195836339034604, 0.00010532780685949925)]"
      ]
     },
     "execution_count": 41,
     "metadata": {},
     "output_type": "execute_result"
    }
   ],
   "source": [
    "from sklearn.decomposition import PCA\n",
    "ss_arr, _ = zip(*get_stride_array(get_bin_ss, agg=lambda a: np.sum(a, axis=0)))\n",
    "n_components = 3\n",
    "ss_arr = PCA(n_components=n_components).fit_transform(ss_arr)\n",
    "[pearsonr(skempi_df.DDG, np.asarray(ss_arr)[:, j]) for j in range(n_components)]"
   ]
  },
  {
   "cell_type": "code",
   "execution_count": 42,
   "metadata": {},
   "outputs": [],
   "source": [
    "class XCor(object):\n",
    "    \n",
    "    def __init__(self, all_features):\n",
    "        self.feat_name_to_indx = {key:i for i, key in enumerate(all_features.keys())}\n",
    "        self.xcor_mat = np.corrcoef(np.asarray(all_features.values()))\n",
    "        \n",
    "    def __getitem__(self, t):\n",
    "        feat1, feat2 = t\n",
    "        i = self.feat_name_to_indx[feat1]\n",
    "        j = self.feat_name_to_indx[feat2]\n",
    "        return self.xcor_mat[(i, j)]"
   ]
  },
  {
   "cell_type": "code",
   "execution_count": 43,
   "metadata": {},
   "outputs": [
    {
     "name": "stderr",
     "output_type": "stream",
     "text": [
      "/home/yotamfr/.local/lib/python2.7/site-packages/numpy/lib/function_base.py:3167: RuntimeWarning: invalid value encountered in true_divide\n",
      "  c /= stddev[:, None]\n",
      "/home/yotamfr/.local/lib/python2.7/site-packages/numpy/lib/function_base.py:3168: RuntimeWarning: invalid value encountered in true_divide\n",
      "  c /= stddev[None, :]\n"
     ]
    }
   ],
   "source": [
    "xcor = XCor(all_features)"
   ]
  },
  {
   "cell_type": "code",
   "execution_count": 44,
   "metadata": {},
   "outputs": [],
   "source": [
    "import itertools\n",
    "def search_min_xcor(all_features, th=0.05):\n",
    "    acc = set()\n",
    "    for comb in itertools.combinations(all_features.keys(), 2):\n",
    "        feat1, feat2 = comb\n",
    "        rho = xcor[(feat1, feat2)]\n",
    "        if abs(rho) < th:\n",
    "            acc.add(feat1)\n",
    "            acc.add(feat2)\n",
    "    return acc"
   ]
  },
  {
   "cell_type": "code",
   "execution_count": 45,
   "metadata": {},
   "outputs": [],
   "source": [
    "acc_feats = search_min_xcor(all_features)\n",
    "len(acc_feats), acc_feats\n",
    "acc_feats = {\n",
    "  '#mutations',\n",
    "#   'B-factor',\n",
    "  'Hydrophobic',\n",
    "  'MolWeight',\n",
    "  'sum(ASA_Chain-ASA):mutated',\n",
    "  ('EI', 'BLOSUM62'),\n",
    "#   ('shells', 'CP_A', 'BASU010101', 0.0, 2.0),\n",
    "  ('shells', 'CP_A', 'BASU010101', 2.0, 4.0),\n",
    "  ('shells', 'CP_A', 'BASU010101', 4.0, 6.0),\n",
    "#   ('shells', 'CP_B', 'BASU010101', 6.0, 8.0),\n",
    "#   ('shells', 'CP_B', 'BASU010101', 0.0, 2.0),\n",
    "  ('shells', 'CP_B', 'BASU010101', 2.0, 4.0),\n",
    "  ('shells', 'CP_B', 'BASU010101', 4.0, 6.0),\n",
    "#   ('shells', 'CP_B', 'BASU010101', 6.0, 8.0),\n",
    "}"
   ]
  },
  {
   "cell_type": "code",
   "execution_count": 46,
   "metadata": {},
   "outputs": [
    {
     "data": {
      "text/plain": [
       "(3047, 9)"
      ]
     },
     "execution_count": 46,
     "metadata": {},
     "output_type": "execute_result"
    }
   ],
   "source": [
    "X = np.transpose([all_features[feat] for feat in acc_feats])\n",
    "# X = np.concatenate([X, np.asarray(ss_arr)], axis=1)\n",
    "X.shape"
   ]
  },
  {
   "cell_type": "code",
   "execution_count": 47,
   "metadata": {},
   "outputs": [],
   "source": [
    "df = skempi_df\n",
    "from sklearn.preprocessing import StandardScaler\n",
    "\n",
    "def run_cv_test(X, get_regressor, normalize=0):\n",
    "    gt, preds = [], []\n",
    "    for group in [G1, G2, G3, G4, G5]:\n",
    "        indx_tst = df.Protein.isin(group)\n",
    "        indx_trn = np.logical_not(indx_tst)\n",
    "        y_trn = df.DDG[indx_trn]\n",
    "        y_true = df.DDG[indx_tst]\n",
    "        X_trn = X[indx_trn]\n",
    "        X_tst = X[indx_tst]\n",
    "        regressor = get_regressor()\n",
    "        if normalize == 1:\n",
    "            scaler = StandardScaler()\n",
    "            scaler.fit(X_trn)\n",
    "            X_trn, X_tst = scaler.transform(X_trn), scaler.transform(X_tst)\n",
    "        regressor.fit(X_trn, y_trn)\n",
    "        y_pred = regressor.predict(X_tst)\n",
    "        print(pearsonr(y_true, y_pred))\n",
    "        preds.extend(y_pred)\n",
    "        gt.extend(y_true)\n",
    "    return gt, preds"
   ]
  },
  {
   "cell_type": "code",
   "execution_count": 48,
   "metadata": {},
   "outputs": [
    {
     "name": "stdout",
     "output_type": "stream",
     "text": [
      "(0.69279600203100511, 9.1804989157982598e-58)\n",
      "(0.49015346256535852, 6.8625208219965142e-22)\n",
      "(0.5701000485124651, 2.0075909963622205e-35)\n",
      "(0.42007597521319229, 2.1915203512820726e-19)\n",
      "(0.67036721894308893, 1.7595163499514873e-68)\n",
      "(0.54720496905900795, 1.4606308335611058e-161)\n"
     ]
    },
    {
     "data": {
      "text/plain": [
       "2064"
      ]
     },
     "execution_count": 48,
     "metadata": {},
     "output_type": "execute_result"
    }
   ],
   "source": [
    "from sklearn.ensemble import RandomForestRegressor\n",
    "def get_regressor(): return RandomForestRegressor(n_estimators=50, random_state=0)\n",
    "gt, preds = run_cv_test(X, get_regressor, normalize=1)\n",
    "print(pearsonr(gt, preds))\n",
    "len(gt)"
   ]
  },
  {
   "cell_type": "code",
   "execution_count": 49,
   "metadata": {},
   "outputs": [
    {
     "name": "stdout",
     "output_type": "stream",
     "text": [
      "(0.6418389566461038, 3.0502485685657789e-47)\n",
      "(0.49707942012655615, 1.4755799107698571e-22)\n",
      "(0.49349512170334436, 1.2290398234944799e-25)\n",
      "(0.42080214824790396, 1.8736509275682552e-19)\n",
      "(0.52960988675265142, 1.4159437847759403e-38)\n",
      "(0.49758261395256498, 1.4887057902296886e-129)\n"
     ]
    },
    {
     "data": {
      "text/plain": [
       "2064"
      ]
     },
     "execution_count": 49,
     "metadata": {},
     "output_type": "execute_result"
    }
   ],
   "source": [
    "from sklearn.svm import SVR\n",
    "def get_regressor(): return SVR(kernel='rbf')\n",
    "gt, preds = run_cv_test(X, get_regressor, normalize=1)\n",
    "print(pearsonr(gt, preds))\n",
    "len(gt)"
   ]
  },
  {
   "cell_type": "code",
   "execution_count": 50,
   "metadata": {},
   "outputs": [],
   "source": [
    "def run_cv_test(X, alpha=0.5, normalize=1):\n",
    "    gt, preds = [], []\n",
    "    for group in [G1, G2, G3, G4, G5]:\n",
    "        indx_tst = df.Protein.isin(group)\n",
    "        indx_trn = np.logical_not(indx_tst)\n",
    "        y_trn = df.DDG[indx_trn]\n",
    "        y_true = df.DDG[indx_tst]\n",
    "        X_trn = X[indx_trn]\n",
    "        X_tst = X[indx_tst]\n",
    "        rf = RandomForestRegressor(n_estimators=50, random_state=0)\n",
    "        svr = SVR(kernel='rbf')\n",
    "        if normalize == 1:\n",
    "            scaler = StandardScaler()\n",
    "            scaler.fit(X_trn)\n",
    "            X_trn, X_tst = scaler.transform(X_trn), scaler.transform(X_tst)\n",
    "        svr.fit(X_trn, y_trn)\n",
    "        rf.fit(X_trn, y_trn)\n",
    "        y_pred_svr = svr.predict(X_tst)\n",
    "        y_pred_rf = rf.predict(X_tst)\n",
    "        y_pred = alpha * y_pred_svr + (1-alpha) * y_pred_rf\n",
    "        print(pearsonr(y_true, y_pred))\n",
    "        preds.extend(y_pred)\n",
    "        gt.extend(y_true)\n",
    "    return gt, preds"
   ]
  },
  {
   "cell_type": "code",
   "execution_count": 51,
   "metadata": {},
   "outputs": [
    {
     "name": "stdout",
     "output_type": "stream",
     "text": [
      "(0.68995764394166315, 4.0390005032370189e-57)\n",
      "(0.51045469745328897, 6.8553957198700105e-24)\n",
      "(0.57017759217105091, 1.9563077691539126e-35)\n",
      "(0.4339725258259271, 1.0217752671876987e-20)\n",
      "(0.64361363039461883, 1.4363171559578696e-61)\n",
      "(0.54607496242340392, 9.0019705805224639e-161)\n"
     ]
    },
    {
     "data": {
      "text/plain": [
       "2064"
      ]
     },
     "execution_count": 51,
     "metadata": {},
     "output_type": "execute_result"
    }
   ],
   "source": [
    "gt, preds = run_cv_test(X, normalize=1)\n",
    "print(pearsonr(gt, preds))\n",
    "len(gt)"
   ]
  },
  {
   "cell_type": "code",
   "execution_count": 52,
   "metadata": {},
   "outputs": [],
   "source": [
    "cp_b = np.asarray(all_features[('shells', 'CP_B', 'BASU010101', 4.0, 6.0)])\n",
    "cp_a = np.asarray(all_features[('shells', 'CP_A', 'BASU010101', 4.0, 6.0)])\n",
    "ei = np.asarray(all_features[('EI', 'BLOSUM62')])\n",
    "ddg = skempi_df.DDG"
   ]
  },
  {
   "cell_type": "code",
   "execution_count": 53,
   "metadata": {},
   "outputs": [
    {
     "data": {
      "text/plain": [
       "(-0.27028535068257847, 0.13469794905420057, 0.32195124705919709)"
      ]
     },
     "execution_count": 53,
     "metadata": {},
     "output_type": "execute_result"
    }
   ],
   "source": [
    "c1 = pearsonr(ei, ddg)[0]\n",
    "c2 = pearsonr(cp_a, ddg)[0]\n",
    "c3 = pearsonr(cp_b, ddg)[0]\n",
    "s = c1 + c2 + c3\n",
    "a1 = c1/s\n",
    "a2 = c2/s\n",
    "a3 = c3/s\n",
    "c1, c2, c3"
   ]
  },
  {
   "cell_type": "code",
   "execution_count": 54,
   "metadata": {},
   "outputs": [
    {
     "data": {
      "text/plain": [
       "(0.35216325342895516, 1.1496304244762025e-89)"
      ]
     },
     "execution_count": 54,
     "metadata": {},
     "output_type": "execute_result"
    }
   ],
   "source": [
    "ddg_hat =  np.multiply(a1, ei) + np.multiply(a2, cp_a) + np.multiply(a3, cp_b)\n",
    "pearsonr(ddg_hat, ddg)"
   ]
  },
  {
   "cell_type": "code",
   "execution_count": null,
   "metadata": {},
   "outputs": [],
   "source": []
  }
 ],
 "metadata": {
  "kernelspec": {
   "display_name": "skempi2",
   "language": "python",
   "name": "skempi2"
  },
  "language_info": {
   "codemirror_mode": {
    "name": "ipython",
    "version": 2
   },
   "file_extension": ".py",
   "mimetype": "text/x-python",
   "name": "python",
   "nbconvert_exporter": "python",
   "pygments_lexer": "ipython2",
   "version": "2.7.15"
  }
 },
 "nbformat": 4,
 "nbformat_minor": 2
}
