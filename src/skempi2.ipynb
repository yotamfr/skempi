{
 "cells": [
  {
   "cell_type": "code",
   "execution_count": 1,
   "metadata": {},
   "outputs": [
    {
     "name": "stderr",
     "output_type": "stream",
     "text": [
      "/media/disk1/yotam/skempi/skempi2/lib/python2.7/site-packages/sklearn/utils/__init__.py:9: RuntimeWarning: numpy.dtype size changed, may indicate binary incompatibility. Expected 96, got 88\n",
      "  from .murmurhash import murmurhash3_32\n",
      "/media/disk1/yotam/skempi/skempi2/lib/python2.7/site-packages/sklearn/utils/extmath.py:24: RuntimeWarning: numpy.dtype size changed, may indicate binary incompatibility. Expected 96, got 88\n",
      "  from ._logistic_sigmoid import _log_logistic_sigmoid\n",
      "/media/disk1/yotam/skempi/skempi2/lib/python2.7/site-packages/sklearn/utils/extmath.py:26: RuntimeWarning: numpy.dtype size changed, may indicate binary incompatibility. Expected 96, got 88\n",
      "  from .sparsefuncs_fast import csr_row_norms\n",
      "/media/disk1/yotam/skempi/skempi2/lib/python2.7/site-packages/sklearn/metrics/cluster/supervised.py:23: RuntimeWarning: numpy.dtype size changed, may indicate binary incompatibility. Expected 96, got 88\n",
      "  from .expected_mutual_info_fast import expected_mutual_information\n",
      "/media/disk1/yotam/skempi/skempi2/lib/python2.7/site-packages/sklearn/metrics/pairwise.py:30: RuntimeWarning: numpy.dtype size changed, may indicate binary incompatibility. Expected 96, got 88\n",
      "  from .pairwise_fast import _chi2_kernel_fast, _sparse_manhattan\n"
     ]
    }
   ],
   "source": [
    "from skempi_utils import *\n",
    "from scipy.stats import pearsonr"
   ]
  },
  {
   "cell_type": "code",
   "execution_count": 2,
   "metadata": {
    "scrolled": false
   },
   "outputs": [
    {
     "data": {
      "text/html": [
       "<div>\n",
       "<style scoped>\n",
       "    .dataframe tbody tr th:only-of-type {\n",
       "        vertical-align: middle;\n",
       "    }\n",
       "\n",
       "    .dataframe tbody tr th {\n",
       "        vertical-align: top;\n",
       "    }\n",
       "\n",
       "    .dataframe thead th {\n",
       "        text-align: right;\n",
       "    }\n",
       "</style>\n",
       "<table border=\"1\" class=\"dataframe\">\n",
       "  <thead>\n",
       "    <tr style=\"text-align: right;\">\n",
       "      <th></th>\n",
       "      <th>Protein</th>\n",
       "      <th>Mutation(s)_PDB</th>\n",
       "      <th>Mutation(s)_cleaned</th>\n",
       "      <th>Location(s)</th>\n",
       "      <th>Hold_out_type</th>\n",
       "      <th>Hold_out_proteins</th>\n",
       "      <th>Affinity_mut (M)</th>\n",
       "      <th>Affinity_wt (M)</th>\n",
       "      <th>DDG</th>\n",
       "      <th>Reference</th>\n",
       "      <th>...</th>\n",
       "      <th>Temperature</th>\n",
       "      <th>kon_mut (M^(-1)s^(-1))</th>\n",
       "      <th>kon_wt (M^(-1)s^(-1))</th>\n",
       "      <th>koff_mut (s^(-1))</th>\n",
       "      <th>koff_wt (s^(-1))</th>\n",
       "      <th>dH_mut (kcal mol^(-1))</th>\n",
       "      <th>dH_wt (kcal mol^(-1))</th>\n",
       "      <th>dS_mut (cal mol^(-1) K^(-1))</th>\n",
       "      <th>dS_wt (cal mol^(-1) K^(-1))</th>\n",
       "      <th>Notes</th>\n",
       "    </tr>\n",
       "  </thead>\n",
       "  <tbody>\n",
       "    <tr>\n",
       "      <th>0</th>\n",
       "      <td>1CSE_E_I</td>\n",
       "      <td>LI45G</td>\n",
       "      <td>LI38G</td>\n",
       "      <td>COR</td>\n",
       "      <td>PI</td>\n",
       "      <td>PI</td>\n",
       "      <td>5.260000e-11</td>\n",
       "      <td>1.120000e-12</td>\n",
       "      <td>2.280577</td>\n",
       "      <td>9048543</td>\n",
       "      <td>...</td>\n",
       "      <td>294</td>\n",
       "      <td>NaN</td>\n",
       "      <td>NaN</td>\n",
       "      <td>NaN</td>\n",
       "      <td>NaN</td>\n",
       "      <td>NaN</td>\n",
       "      <td>NaN</td>\n",
       "      <td>NaN</td>\n",
       "      <td>NaN</td>\n",
       "      <td>NaN</td>\n",
       "    </tr>\n",
       "    <tr>\n",
       "      <th>1</th>\n",
       "      <td>1CSE_E_I</td>\n",
       "      <td>LI45S</td>\n",
       "      <td>LI38S</td>\n",
       "      <td>COR</td>\n",
       "      <td>PI</td>\n",
       "      <td>PI</td>\n",
       "      <td>8.330000e-12</td>\n",
       "      <td>1.120000e-12</td>\n",
       "      <td>1.188776</td>\n",
       "      <td>9048543</td>\n",
       "      <td>...</td>\n",
       "      <td>294</td>\n",
       "      <td>NaN</td>\n",
       "      <td>NaN</td>\n",
       "      <td>NaN</td>\n",
       "      <td>NaN</td>\n",
       "      <td>NaN</td>\n",
       "      <td>NaN</td>\n",
       "      <td>NaN</td>\n",
       "      <td>NaN</td>\n",
       "      <td>NaN</td>\n",
       "    </tr>\n",
       "    <tr>\n",
       "      <th>2</th>\n",
       "      <td>1CSE_E_I</td>\n",
       "      <td>LI45P</td>\n",
       "      <td>LI38P</td>\n",
       "      <td>COR</td>\n",
       "      <td>PI</td>\n",
       "      <td>PI</td>\n",
       "      <td>1.020000e-07</td>\n",
       "      <td>1.120000e-12</td>\n",
       "      <td>6.765446</td>\n",
       "      <td>9048543</td>\n",
       "      <td>...</td>\n",
       "      <td>294</td>\n",
       "      <td>NaN</td>\n",
       "      <td>NaN</td>\n",
       "      <td>NaN</td>\n",
       "      <td>NaN</td>\n",
       "      <td>NaN</td>\n",
       "      <td>NaN</td>\n",
       "      <td>NaN</td>\n",
       "      <td>NaN</td>\n",
       "      <td>NaN</td>\n",
       "    </tr>\n",
       "    <tr>\n",
       "      <th>3</th>\n",
       "      <td>1CSE_E_I</td>\n",
       "      <td>LI45I</td>\n",
       "      <td>LI38I</td>\n",
       "      <td>COR</td>\n",
       "      <td>PI</td>\n",
       "      <td>PI</td>\n",
       "      <td>1.720000e-10</td>\n",
       "      <td>1.120000e-12</td>\n",
       "      <td>2.982502</td>\n",
       "      <td>9048543</td>\n",
       "      <td>...</td>\n",
       "      <td>294</td>\n",
       "      <td>NaN</td>\n",
       "      <td>NaN</td>\n",
       "      <td>NaN</td>\n",
       "      <td>NaN</td>\n",
       "      <td>NaN</td>\n",
       "      <td>NaN</td>\n",
       "      <td>NaN</td>\n",
       "      <td>NaN</td>\n",
       "      <td>NaN</td>\n",
       "    </tr>\n",
       "    <tr>\n",
       "      <th>4</th>\n",
       "      <td>1CSE_E_I</td>\n",
       "      <td>LI45D</td>\n",
       "      <td>LI38D</td>\n",
       "      <td>COR</td>\n",
       "      <td>PI</td>\n",
       "      <td>PI</td>\n",
       "      <td>1.920000e-09</td>\n",
       "      <td>1.120000e-12</td>\n",
       "      <td>4.411843</td>\n",
       "      <td>9048543</td>\n",
       "      <td>...</td>\n",
       "      <td>294</td>\n",
       "      <td>NaN</td>\n",
       "      <td>NaN</td>\n",
       "      <td>NaN</td>\n",
       "      <td>NaN</td>\n",
       "      <td>NaN</td>\n",
       "      <td>NaN</td>\n",
       "      <td>NaN</td>\n",
       "      <td>NaN</td>\n",
       "      <td>NaN</td>\n",
       "    </tr>\n",
       "  </tbody>\n",
       "</table>\n",
       "<p>5 rows × 24 columns</p>\n",
       "</div>"
      ],
      "text/plain": [
       "    Protein Mutation(s)_PDB Mutation(s)_cleaned Location(s) Hold_out_type  \\\n",
       "0  1CSE_E_I           LI45G               LI38G         COR            PI   \n",
       "1  1CSE_E_I           LI45S               LI38S         COR            PI   \n",
       "2  1CSE_E_I           LI45P               LI38P         COR            PI   \n",
       "3  1CSE_E_I           LI45I               LI38I         COR            PI   \n",
       "4  1CSE_E_I           LI45D               LI38D         COR            PI   \n",
       "\n",
       "  Hold_out_proteins  Affinity_mut (M)  Affinity_wt (M)       DDG Reference  \\\n",
       "0                PI      5.260000e-11     1.120000e-12  2.280577   9048543   \n",
       "1                PI      8.330000e-12     1.120000e-12  1.188776   9048543   \n",
       "2                PI      1.020000e-07     1.120000e-12  6.765446   9048543   \n",
       "3                PI      1.720000e-10     1.120000e-12  2.982502   9048543   \n",
       "4                PI      1.920000e-09     1.120000e-12  4.411843   9048543   \n",
       "\n",
       "   ...   Temperature kon_mut (M^(-1)s^(-1))  kon_wt (M^(-1)s^(-1))  \\\n",
       "0  ...           294                    NaN                    NaN   \n",
       "1  ...           294                    NaN                    NaN   \n",
       "2  ...           294                    NaN                    NaN   \n",
       "3  ...           294                    NaN                    NaN   \n",
       "4  ...           294                    NaN                    NaN   \n",
       "\n",
       "   koff_mut (s^(-1)) koff_wt (s^(-1))  dH_mut (kcal mol^(-1))  \\\n",
       "0                NaN              NaN                     NaN   \n",
       "1                NaN              NaN                     NaN   \n",
       "2                NaN              NaN                     NaN   \n",
       "3                NaN              NaN                     NaN   \n",
       "4                NaN              NaN                     NaN   \n",
       "\n",
       "   dH_wt (kcal mol^(-1))  dS_mut (cal mol^(-1) K^(-1))  \\\n",
       "0                    NaN                           NaN   \n",
       "1                    NaN                           NaN   \n",
       "2                    NaN                           NaN   \n",
       "3                    NaN                           NaN   \n",
       "4                    NaN                           NaN   \n",
       "\n",
       "   dS_wt (cal mol^(-1) K^(-1))  Notes  \n",
       "0                          NaN    NaN  \n",
       "1                          NaN    NaN  \n",
       "2                          NaN    NaN  \n",
       "3                          NaN    NaN  \n",
       "4                          NaN    NaN  \n",
       "\n",
       "[5 rows x 24 columns]"
      ]
     },
     "execution_count": 2,
     "metadata": {},
     "output_type": "execute_result"
    }
   ],
   "source": [
    "df = skempi_df\n",
    "df_multi = df[~np.asarray([len(s)>8 for s in df.Protein])]\n",
    "s_multi = set([s[:4] for s in df_multi.Protein])\n",
    "s_groups = set([s[:4] for s in G1 + G2 + G3 + G4 + G5])\n",
    "len(s_multi & s_groups), len(s_multi), len(s_groups)\n",
    "df_multi.head()"
   ]
  },
  {
   "cell_type": "code",
   "execution_count": 3,
   "metadata": {},
   "outputs": [],
   "source": [
    "from sklearn.preprocessing import StandardScaler\n",
    "from itertools import combinations as comb\n",
    "from sklearn.externals import joblib\n",
    "import numpy as np\n",
    "\n",
    "def evaluate(group_str, y_true, y_pred, ix):\n",
    "    y_pred_pos = y_pred[ix == 0]\n",
    "    y_pred_neg = y_pred[ix == 1]\n",
    "    y_true_pos = y_true[ix == 0]\n",
    "    y_true_neg = y_true[ix == 1]\n",
    "    cor_all, _ = pearsonr(y_true, y_pred)\n",
    "    cor_pos, _ = pearsonr(y_true_pos, y_pred_pos)\n",
    "    cor_neg, _ = pearsonr(y_true_neg, y_pred_neg)\n",
    "    print(\"[%s:%d] cor_all:%.3f, cor_pos:%.3f, cor_neg:%.3f\" % (group_str, len(y_true), cor_all, cor_pos, cor_neg))\n",
    "    return cor_all, cor_pos, cor_neg\n",
    "\n",
    "def run_cv_test(X, y, ix, get_regressor, modelname, normalize=1):\n",
    "    gt, preds, indx, cors = [], [], [], []\n",
    "    groups = [G1, G2, G3, G4, G5]\n",
    "    prots = G1 + G2 + G3 + G4 + G5\n",
    "    for i, pair in enumerate(comb(range(NUM_GROUPS), 2)):\n",
    "        group = groups[pair[0]] + groups[pair[1]]\n",
    "        g1, g2 = np.asarray(pair) + 1\n",
    "        indx_tst = (ix[:, 0] == g1) | (ix[:, 0]  == g2)\n",
    "        indx_trn = np.logical_not(indx_tst)\n",
    "        y_trn = y[indx_trn]\n",
    "        y_true = y[indx_tst]\n",
    "        X_trn = X[indx_trn]\n",
    "        X_tst = X[indx_tst]\n",
    "        if normalize == 1:\n",
    "            scaler = StandardScaler()\n",
    "            scaler.fit(X_trn)\n",
    "            X_trn = scaler.transform(X_trn)\n",
    "            X_tst = scaler.transform(X_tst)\n",
    "        regressor = get_regressor()\n",
    "        regressor.fit(X_trn, y_trn)\n",
    "        joblib.dump(regressor, 'models/%s%s.pkl' % (modelname, i))\n",
    "        regressor = joblib.load('models/%s%s.pkl' % (modelname, i))\n",
    "        y_pred = regressor.predict(X_tst)\n",
    "        cor, pos, neg = evaluate(\"G%d,G%d\" % (g1, g2), y_true, y_pred, ix[indx_tst, 1])\n",
    "        cors.append([cor, pos, neg])\n",
    "        indx.extend(ix[indx_tst, 1])\n",
    "        preds.extend(y_pred)\n",
    "        gt.extend(y_true)\n",
    "    return [np.asarray(a) for a in [gt, preds, indx, cors]]\n",
    "\n",
    "\n",
    "def run_cv_test_ensemble(X, y, ix, alpha=0.5, normalize=1):\n",
    "    gt, preds, indx, cors = [], [], [], []\n",
    "    groups = [G1, G2, G3, G4, G5]\n",
    "    prots = G1 + G2 + G3 + G4 + G5\n",
    "    for i, pair in enumerate(comb(range(NUM_GROUPS), 2)):\n",
    "        group = groups[pair[0]] + groups[pair[1]]\n",
    "        g1, g2 = np.asarray(pair) + 1\n",
    "        indx_tst = (ix[:, 0] == g1) | (ix[:, 0]  == g2)\n",
    "        indx_trn = (ix[:, 0] != 0) & ((ix[:, 0] == g1) | (ix[:, 0]  == g2))\n",
    "        y_trn = y[indx_trn]\n",
    "        y_true = y[indx_tst]\n",
    "        X_trn = X[indx_trn]\n",
    "        X_tst = X[indx_tst]\n",
    "        svr = joblib.load('models/svr%d.pkl' % i)\n",
    "        rfr = joblib.load('models/rfr%d.pkl' % i)\n",
    "        if normalize == 1:\n",
    "            scaler = StandardScaler()\n",
    "            scaler.fit(X_trn)\n",
    "            X_trn = scaler.transform(X_trn)\n",
    "            X_tst = scaler.transform(X_tst)\n",
    "        y_pred_svr = svr.predict(X_tst)\n",
    "        y_pred_rfr = rfr.predict(X_tst)\n",
    "        y_pred = alpha * y_pred_svr + (1-alpha) * y_pred_rfr\n",
    "        cor, pos, neg = evaluate(\"G%d,G%d\" % (g1, g2), y_true, y_pred, ix[indx_tst, 1])\n",
    "        cors.append([cor, pos, neg])\n",
    "        indx.extend(ix[indx_tst, 1])\n",
    "        preds.extend(y_pred)\n",
    "        gt.extend(y_true)\n",
    "    return [np.asarray(a) for a in [gt, preds, indx, cors]]\n",
    "\n",
    "\n",
    "def records_to_xy(skempi_records, load_neg=True):\n",
    "    data = []\n",
    "    for record in tqdm(skempi_records, desc=\"records processed\"):\n",
    "        r = record\n",
    "        assert r.struct is not None\n",
    "        data.append([r.features(True), [r.ddg], [r.group, r.is_minus]])\n",
    "        if not load_neg: continue \n",
    "        rr = reversed(record)\n",
    "        assert rr.struct is not None\n",
    "        data.append([rr.features(True), [rr.ddg], [rr.group, rr.is_minus]])\n",
    "    X, y, ix = [np.asarray(d) for d in zip(*data)]\n",
    "    return X, y, ix"
   ]
  },
  {
   "cell_type": "code",
   "execution_count": 4,
   "metadata": {},
   "outputs": [
    {
     "name": "stderr",
     "output_type": "stream",
     "text": [
      "skempi structures processed: 100%|██████████| 158/158 [00:08<00:00, 17.60it/s]\n",
      "row processed: 100%|██████████| 3047/3047 [00:00<00:00, 5533.66it/s]\n"
     ]
    }
   ],
   "source": [
    "def get_temperature_array(records, agg=np.min):\n",
    "    arr = []\n",
    "    pbar = tqdm(range(len(skempi_df)), desc=\"row processed\")\n",
    "    for i, row in skempi_df.iterrows():\n",
    "        arr_obs_mut = []\n",
    "        for mutation in row[\"Mutation(s)_cleaned\"].split(','):\n",
    "            mut = Mutation(mutation)\n",
    "            res_i, chain_id = mut.i, mut.chain_id\n",
    "            t = tuple(row.Protein.split('_'))\n",
    "            skempi_record = records[t]\n",
    "            res = skempi_record[chain_id][res_i]\n",
    "            temps = [a.temp for a in res.atoms]\n",
    "            arr_obs_mut.append(np.mean(temps))\n",
    "        arr.append(agg(arr_obs_mut))\n",
    "        pbar.update(1)\n",
    "    pbar.close()\n",
    "    return arr\n",
    "\n",
    "skempi_records = load_skempi_structs(pdb_path=\"../data/pdbs_n\", compute_dist_mat=False)\n",
    "temp_arr = get_temperature_array(skempi_records, agg=np.min)"
   ]
  },
  {
   "cell_type": "code",
   "execution_count": 5,
   "metadata": {
    "scrolled": false
   },
   "outputs": [
    {
     "name": "stderr",
     "output_type": "stream",
     "text": [
      "skempi structures processed: 100%|██████████| 158/158 [00:06<00:00, 25.06it/s]\n",
      "skempi records processed: 100%|██████████| 3047/3047 [00:00<00:00, 5530.34it/s]\n"
     ]
    }
   ],
   "source": [
    "skempi_structs = load_skempi_structs(\"../data/pdbs\", compute_dist_mat=False)\n",
    "skempi_records = load_skempi_records(skempi_structs)"
   ]
  },
  {
   "cell_type": "code",
   "execution_count": 6,
   "metadata": {},
   "outputs": [],
   "source": [
    "# X_pos, y_pos, ix_pos = records_to_xy(skempi_records)\n",
    "# X_pos.shape, y_pos.shape, ix_pos.shape"
   ]
  },
  {
   "cell_type": "code",
   "execution_count": 7,
   "metadata": {
    "scrolled": false
   },
   "outputs": [
    {
     "name": "stderr",
     "output_type": "stream",
     "text": [
      "records processed: 100%|██████████| 3047/3047 [2:27:48<00:00,  2.91s/it]  \n"
     ]
    }
   ],
   "source": [
    "X_, y_, ix_ = records_to_xy(skempi_records)"
   ]
  },
  {
   "cell_type": "code",
   "execution_count": 8,
   "metadata": {},
   "outputs": [
    {
     "data": {
      "text/plain": [
       "((6094, 11), (6094,), (6094, 2))"
      ]
     },
     "execution_count": 8,
     "metadata": {},
     "output_type": "execute_result"
    }
   ],
   "source": [
    "X = X_[:, :]\n",
    "# X = np.concatenate([X.T, [temp_arr]], axis=0).T\n",
    "y = y_[:, 0]\n",
    "ix = ix_\n",
    "X.shape, y.shape, ix.shape"
   ]
  },
  {
   "cell_type": "code",
   "execution_count": 9,
   "metadata": {},
   "outputs": [
    {
     "name": "stderr",
     "output_type": "stream",
     "text": [
      "/media/disk1/yotam/skempi/skempi2/lib/python2.7/site-packages/sklearn/svm/base.py:8: RuntimeWarning: numpy.dtype size changed, may indicate binary incompatibility. Expected 96, got 88\n",
      "  from . import libsvm, liblinear\n",
      "/media/disk1/yotam/skempi/skempi2/lib/python2.7/site-packages/sklearn/svm/base.py:9: RuntimeWarning: numpy.dtype size changed, may indicate binary incompatibility. Expected 96, got 88\n",
      "  from . import libsvm_sparse\n",
      "/media/disk1/yotam/skempi/skempi2/lib/python2.7/site-packages/sklearn/linear_model/base.py:35: RuntimeWarning: numpy.dtype size changed, may indicate binary incompatibility. Expected 96, got 88\n",
      "  from ..utils.seq_dataset import ArrayDataset, CSRDataset\n",
      "/media/disk1/yotam/skempi/skempi2/lib/python2.7/site-packages/sklearn/linear_model/least_angle.py:23: RuntimeWarning: numpy.dtype size changed, may indicate binary incompatibility. Expected 96, got 88\n",
      "  from ..utils import arrayfuncs, as_float_array, check_X_y, deprecated\n",
      "/media/disk1/yotam/skempi/skempi2/lib/python2.7/site-packages/sklearn/utils/random.py:10: RuntimeWarning: numpy.dtype size changed, may indicate binary incompatibility. Expected 96, got 88\n",
      "  from ._random import sample_without_replacement\n",
      "/media/disk1/yotam/skempi/skempi2/lib/python2.7/site-packages/sklearn/linear_model/coordinate_descent.py:29: RuntimeWarning: numpy.dtype size changed, may indicate binary incompatibility. Expected 96, got 88\n",
      "  from . import cd_fast\n",
      "/media/disk1/yotam/skempi/skempi2/lib/python2.7/site-packages/sklearn/linear_model/__init__.py:22: RuntimeWarning: numpy.dtype size changed, may indicate binary incompatibility. Expected 96, got 88\n",
      "  from .sgd_fast import Hinge, Log, ModifiedHuber, SquaredLoss, Huber\n",
      "/media/disk1/yotam/skempi/skempi2/lib/python2.7/site-packages/sklearn/linear_model/sag.py:12: RuntimeWarning: numpy.dtype size changed, may indicate binary incompatibility. Expected 96, got 88\n",
      "  from .sag_fast import sag\n",
      "/media/disk1/yotam/skempi/skempi2/lib/python2.7/site-packages/sklearn/neighbors/__init__.py:6: RuntimeWarning: numpy.dtype size changed, may indicate binary incompatibility. Expected 96, got 88\n",
      "  from .ball_tree import BallTree\n",
      "/media/disk1/yotam/skempi/skempi2/lib/python2.7/site-packages/sklearn/neighbors/__init__.py:7: RuntimeWarning: numpy.dtype size changed, may indicate binary incompatibility. Expected 96, got 88\n",
      "  from .kd_tree import KDTree\n"
     ]
    },
    {
     "name": "stdout",
     "output_type": "stream",
     "text": [
      "----->SVR\n",
      "[G1,G2:1468] cor_all:0.604, cor_pos:0.401, cor_neg:0.426\n",
      "[G1,G3:1580] cor_all:0.501, cor_pos:0.357, cor_neg:0.373\n",
      "[G1,G4:1630] cor_all:0.447, cor_pos:0.255, cor_neg:0.326\n",
      "[G1,G5:1820] cor_all:0.587, cor_pos:0.453, cor_neg:0.464\n",
      "[G2,G3:1468] cor_all:0.621, cor_pos:0.398, cor_neg:0.508\n",
      "[G2,G4:1518] cor_all:0.564, cor_pos:0.341, cor_neg:0.414\n",
      "[G2,G5:1708] cor_all:0.675, cor_pos:0.525, cor_neg:0.584\n",
      "[G3,G4:1630] cor_all:0.482, cor_pos:0.293, cor_neg:0.366\n",
      "[G3,G5:1820] cor_all:0.619, cor_pos:0.477, cor_neg:0.520\n",
      "[G4,G5:1870] cor_all:0.599, cor_pos:0.451, cor_neg:0.503\n",
      "[CAT:16512] cor_all:0.563, cor_pos:0.388, cor_neg:0.436\n",
      "[0.56983956 0.39499973 0.44830233]\n",
      "----->RFR\n"
     ]
    },
    {
     "name": "stderr",
     "output_type": "stream",
     "text": [
      "/media/disk1/yotam/skempi/skempi2/lib/python2.7/site-packages/sklearn/tree/tree.py:40: RuntimeWarning: numpy.dtype size changed, may indicate binary incompatibility. Expected 96, got 88\n",
      "  from ._criterion import Criterion\n",
      "/media/disk1/yotam/skempi/skempi2/lib/python2.7/site-packages/sklearn/ensemble/weight_boosting.py:29: DeprecationWarning: numpy.core.umath_tests is an internal NumPy module and should not be imported. It will be removed in a future NumPy release.\n",
      "  from numpy.core.umath_tests import inner1d\n",
      "/media/disk1/yotam/skempi/skempi2/lib/python2.7/site-packages/sklearn/ensemble/gradient_boosting.py:34: RuntimeWarning: numpy.dtype size changed, may indicate binary incompatibility. Expected 96, got 88\n",
      "  from ._gradient_boosting import predict_stages\n"
     ]
    },
    {
     "name": "stdout",
     "output_type": "stream",
     "text": [
      "[G1,G2:1468] cor_all:0.662, cor_pos:0.523, cor_neg:0.426\n",
      "[G1,G3:1580] cor_all:0.634, cor_pos:0.502, cor_neg:0.466\n",
      "[G1,G4:1630] cor_all:0.578, cor_pos:0.447, cor_neg:0.400\n",
      "[G1,G5:1820] cor_all:0.670, cor_pos:0.603, cor_neg:0.522\n",
      "[G2,G3:1468] cor_all:0.693, cor_pos:0.537, cor_neg:0.488\n",
      "[G2,G4:1518] cor_all:0.618, cor_pos:0.438, cor_neg:0.410\n",
      "[G2,G5:1708] cor_all:0.683, cor_pos:0.551, cor_neg:0.568\n",
      "[G3,G4:1630] cor_all:0.619, cor_pos:0.425, cor_neg:0.504\n",
      "[G3,G5:1820] cor_all:0.693, cor_pos:0.605, cor_neg:0.578\n",
      "[G4,G5:1870] cor_all:0.660, cor_pos:0.533, cor_neg:0.577\n",
      "[CAT:16512] cor_all:0.633, cor_pos:0.498, cor_neg:0.477\n",
      "[0.65100622 0.51639772 0.49397302]\n",
      "----->0.50*SVR + 0.50*RFR\n",
      "[G1,G2:1468] cor_all:0.616, cor_pos:0.417, cor_neg:0.395\n",
      "[G1,G3:1580] cor_all:0.605, cor_pos:0.490, cor_neg:0.448\n",
      "[G1,G4:1630] cor_all:0.494, cor_pos:0.352, cor_neg:0.343\n",
      "[G1,G5:1820] cor_all:0.655, cor_pos:0.566, cor_neg:0.518\n",
      "[G2,G3:1468] cor_all:0.690, cor_pos:0.503, cor_neg:0.528\n",
      "[G2,G4:1518] cor_all:0.593, cor_pos:0.392, cor_neg:0.398\n",
      "[G2,G5:1708] cor_all:0.658, cor_pos:0.480, cor_neg:0.577\n",
      "[G3,G4:1630] cor_all:0.583, cor_pos:0.433, cor_neg:0.454\n",
      "[G3,G5:1820] cor_all:0.700, cor_pos:0.579, cor_neg:0.619\n",
      "[G4,G5:1870] cor_all:0.626, cor_pos:0.465, cor_neg:0.545\n",
      "[CAT:16512] cor_all:0.618, cor_pos:0.464, cor_neg:0.478\n",
      "[0.62203544 0.46789628 0.48258152]\n"
     ]
    }
   ],
   "source": [
    "print(\"----->SVR\")\n",
    "from sklearn.svm import SVR\n",
    "def get_regressor(): return SVR(kernel='rbf')\n",
    "gt, preds, indx, cors = run_cv_test(X, y, ix, get_regressor, 'svr', normalize=1)\n",
    "cor1, _, _ = evaluate(\"CAT\", gt, preds, indx)\n",
    "print(np.mean(cors, axis=0))\n",
    "\n",
    "print(\"----->RFR\")\n",
    "from sklearn.ensemble import RandomForestRegressor\n",
    "def get_regressor(): return RandomForestRegressor(n_estimators=50, random_state=0)\n",
    "gt, preds, indx, cors = run_cv_test(X, y, ix, get_regressor, 'rfr', normalize=1)\n",
    "cor2, _, _ = evaluate(\"CAT\", gt, preds, indx)\n",
    "print(np.mean(cors, axis=0))\n",
    "\n",
    "# alpha = cor1/(cor1+cor2)\n",
    "alpha = 0.5\n",
    "print(\"----->%.2f*SVR + %.2f*RFR\" % (alpha, 1-alpha))\n",
    "gt, preds, indx, cors = run_cv_test_ensemble(X, y, ix, normalize=1)\n",
    "cor, _, _ = evaluate(\"CAT\", gt, preds, indx)\n",
    "print(np.mean(cors, axis=0))"
   ]
  },
  {
   "cell_type": "code",
   "execution_count": 17,
   "metadata": {},
   "outputs": [],
   "source": [
    "from sklearn.svm import SVR\n",
    "from sklearn.ensemble import RandomForestRegressor\n",
    "def run_holdout_test_ensemble(X, y, ix, alpha=0.5, normalize=1):\n",
    "    indx_tst = ix[:, 0] == 0\n",
    "    indx_trn = np.logical_not(indx_tst)\n",
    "    y_trn = y[indx_trn]\n",
    "    y_true = y[indx_tst]\n",
    "    X_trn = X[indx_trn]\n",
    "    X_tst = X[indx_tst]\n",
    "    svr = SVR(kernel='rbf')\n",
    "    rfr = RandomForestRegressor(n_estimators=50, random_state=0)\n",
    "    if normalize == 1:\n",
    "        scaler = StandardScaler()\n",
    "        scaler.fit(X_trn)\n",
    "        X_trn = scaler.transform(X_trn)\n",
    "        X_tst = scaler.transform(X_tst)\n",
    "    svr.fit(X_trn, y_trn)\n",
    "    rfr.fit(X_trn, y_trn)\n",
    "    y_pred_svr = svr.predict(X_tst)\n",
    "    y_pred_rfr = rfr.predict(X_tst)\n",
    "    y_pred = alpha * y_pred_svr + (1-alpha) * y_pred_rfr\n",
    "    cor, pos, neg = evaluate(\"holdout\", y_true, y_pred, ix[indx_tst, 1])\n",
    "    return cor, pos, neg"
   ]
  },
  {
   "cell_type": "code",
   "execution_count": 18,
   "metadata": {},
   "outputs": [
    {
     "name": "stdout",
     "output_type": "stream",
     "text": [
      "[holdout:1966] cor_all:0.669, cor_pos:0.512, cor_neg:0.475\n"
     ]
    },
    {
     "data": {
      "text/plain": [
       "(0.6692042710734145, 0.5115657470680267, 0.47510955646195174)"
      ]
     },
     "execution_count": 18,
     "metadata": {},
     "output_type": "execute_result"
    }
   ],
   "source": [
    "alpha = 0.5\n",
    "run_holdout_test_ensemble(X, y, ix, alpha=0.5, normalize=1)"
   ]
  },
  {
   "cell_type": "code",
   "execution_count": null,
   "metadata": {},
   "outputs": [],
   "source": []
  }
 ],
 "metadata": {
  "kernelspec": {
   "display_name": "skempi2",
   "language": "python",
   "name": "skempi2"
  },
  "language_info": {
   "codemirror_mode": {
    "name": "ipython",
    "version": 2
   },
   "file_extension": ".py",
   "mimetype": "text/x-python",
   "name": "python",
   "nbconvert_exporter": "python",
   "pygments_lexer": "ipython2",
   "version": "2.7.15"
  }
 },
 "nbformat": 4,
 "nbformat_minor": 2
}
